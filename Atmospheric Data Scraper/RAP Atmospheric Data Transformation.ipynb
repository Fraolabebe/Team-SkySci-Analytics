{
 "cells": [
  {
   "cell_type": "code",
   "execution_count": 2,
   "id": "207fcd63",
   "metadata": {},
   "outputs": [],
   "source": [
    "# Import libraries\n",
    "import pandas as pd\n",
    "import numpy as np\n",
    "import matplotlib.pyplot as plt\n",
    "import seaborn as sns"
   ]
  },
  {
   "cell_type": "code",
   "execution_count": null,
   "id": "3e9ea743",
   "metadata": {},
   "outputs": [],
   "source": [
    "path1 = r\"C:\\Users\\abebe\\Documents\\George Mason University\\6- SUMME 2023\\Team-SkySci-Analytics\\Metadata Merge Transform\\ground_weather_merged.csv\"\n",
    "path2 = r\"C:\\Users\\abebe\\Documents\\George Mason University\\6- SUMME 2023\\Team-SkySci-Analytics\\Atmospheric Data Scraper\\atmospheric_data_dewPt_master.csv\""
   ]
  },
  {
   "cell_type": "code",
   "execution_count": null,
   "id": "68cee5e4",
   "metadata": {},
   "outputs": [],
   "source": [
    "atmosphericData = pd.read_csv(path2)\n",
    "groundWeatehrData = pd.read_csv(path1)\n",
    "atmosphericData.head()\n",
    "# pressure is in units of pascal, which we will convert to millibars"
   ]
  },
  {
   "cell_type": "code",
   "execution_count": null,
   "id": "6f46a96f",
   "metadata": {},
   "outputs": [],
   "source": [
    "# Converting timestamp format \n",
    "# atmosphericData['Timestamp'] = pd.to_datetime(atmosphericData['Timestamp'], format='%m/%d/%Y %H:%M').dt.strftime('%Y-%m-%d %H:%M:%S')"
   ]
  },
  {
   "cell_type": "code",
   "execution_count": null,
   "id": "80fdcf22",
   "metadata": {},
   "outputs": [],
   "source": [
    "# # Group the DataFrame by longitude and latitude\n",
    "# grouped_data = atmosphericData.groupby(['Longitude', 'Latitude'])\n",
    "\n",
    "# # Iterate over the groups\n",
    "# for group, group_df in grouped_data:\n",
    "# # Print longitude, latitude, and the corresponding data for each group to look at all the available coordinates\n",
    "#     print(\"Longitude:\", group[0])\n",
    "#     print(\"Latitude:\", group[1])\n",
    "#     print(\"Grouped data:\")\n",
    "#     print(group_df)\n",
    "#     print()"
   ]
  },
  {
   "cell_type": "code",
   "execution_count": null,
   "id": "2d5e2ecf",
   "metadata": {},
   "outputs": [],
   "source": [
    "#selected area of coordinates \n",
    "long = -77.02804541\n",
    "lat= 38.53080152"
   ]
  },
  {
   "cell_type": "code",
   "execution_count": null,
   "id": "c7dd1fc9",
   "metadata": {},
   "outputs": [],
   "source": [
    "# # Checking if there are datapoint within the selected alt and long coordinates \n",
    "# Atm_data = atmosphericData[(atmosphericData['Latitude'] == lat) & (atmosphericData['Longitude'] == long)]\n",
    "# if len(df) > 0:\n",
    "#     print(\"There are rows with the specified latitude and longitude.\")\n",
    "# else:\n",
    "#     print(\"There are no rows with the specified latitude and longitude.\")"
   ]
  },
  {
   "cell_type": "code",
   "execution_count": null,
   "id": "6ded4f42",
   "metadata": {},
   "outputs": [],
   "source": [
    "# df.to_csv(\"dewPt_data.csv\", index=False)"
   ]
  },
  {
   "cell_type": "markdown",
   "id": "dc5e6a83",
   "metadata": {},
   "source": [
    "# Relative Humidity Calculation"
   ]
  },
  {
   "cell_type": "code",
   "execution_count": 4,
   "id": "4314cdbf",
   "metadata": {},
   "outputs": [],
   "source": [
    "path3 = r\"C:\\Users\\abebe\\Documents\\George Mason University\\6- SUMME 2023\\Team-SkySci-Analytics\\Atmospheric Data Scraper\\clean_atmospheric_data.csv\"\n",
    "clean_data= pd.read_csv(path3)"
   ]
  },
  {
   "cell_type": "markdown",
   "id": "49ab5b90",
   "metadata": {},
   "source": [
    "The following resources are used to calculate RH and Saturated VP and Actual Vp\n",
    "\n",
    "* https://www.weather.gov/media/epz/wxcalc/tempConvert.pdf  <<- Temp Convertion \n",
    "* https://www.weather.gov/media/epz/wxcalc/vaporPressure.pdf <<- RH AND pressure Calculation\n",
    "* https://andrewsforest.oregonstate.edu/sites/default/files/lter/data/studies/ms01/dewpt_vpd_calculations.pdf\n"
   ]
  },
  {
   "cell_type": "markdown",
   "id": "dfcc4da9",
   "metadata": {},
   "source": [
    "**RH = (e / es) * 100**\n",
    "\n",
    "Where:\n",
    "\n",
    "- RH is the relative humidity expressed as a percentage\n",
    "- e is the actual water vapor pressure\n",
    "- es is the saturation vapor pressure at the same temperature.**\n",
    "\n",
    "The saturation vapor pressure (es) at a given temperature can be canculated using this formuala :\n",
    "\n",
    "\n",
    "**e =  6.11 * 10^((7.5 * Td) / (237.3 + Td))** \n",
    "\n",
    "\n",
    "**es = 6.11 * 10^((7.5 * T) / (237.3 + T))**\n",
    "\n"
   ]
  },
  {
   "cell_type": "code",
   "execution_count": 5,
   "id": "0dc008c7",
   "metadata": {
    "scrolled": false
   },
   "outputs": [
    {
     "data": {
      "text/plain": [
       "59.37"
      ]
     },
     "execution_count": 5,
     "metadata": {},
     "output_type": "execute_result"
    }
   ],
   "source": [
    "# Converting atmospheric temperature and dew point temperature to degrees Celsius\n",
    "clean_data['TMP_C'] = clean_data['Temperature'] - 237.16\n",
    "clean_data['dewPT_C'] = clean_data['Dewpt'] - 237.16\n",
    "round(max(clean_data.dewPT_C),2)"
   ]
  },
  {
   "cell_type": "code",
   "execution_count": 6,
   "id": "a53ca0bb",
   "metadata": {
    "scrolled": true
   },
   "outputs": [
    {
     "data": {
      "text/html": [
       "<div>\n",
       "<style scoped>\n",
       "    .dataframe tbody tr th:only-of-type {\n",
       "        vertical-align: middle;\n",
       "    }\n",
       "\n",
       "    .dataframe tbody tr th {\n",
       "        vertical-align: top;\n",
       "    }\n",
       "\n",
       "    .dataframe thead th {\n",
       "        text-align: right;\n",
       "    }\n",
       "</style>\n",
       "<table border=\"1\" class=\"dataframe\">\n",
       "  <thead>\n",
       "    <tr style=\"text-align: right;\">\n",
       "      <th></th>\n",
       "      <th>Timestamp</th>\n",
       "      <th>Level</th>\n",
       "      <th>Temperature</th>\n",
       "      <th>Humidity</th>\n",
       "      <th>altitude (ft)</th>\n",
       "      <th>Dewpt</th>\n",
       "      <th>TMP_C</th>\n",
       "      <th>dewPT_C</th>\n",
       "      <th>Saturated_Vapor_Pressur</th>\n",
       "      <th>Actual_Vapor_Pressure</th>\n",
       "      <th>RH_water</th>\n",
       "    </tr>\n",
       "  </thead>\n",
       "  <tbody>\n",
       "    <tr>\n",
       "      <th>0</th>\n",
       "      <td>2022-09-01 00:00:00</td>\n",
       "      <td>200.0</td>\n",
       "      <td>217.590439</td>\n",
       "      <td>22.580428</td>\n",
       "      <td>38615.046</td>\n",
       "      <td>288.822052</td>\n",
       "      <td>-19.569561</td>\n",
       "      <td>51.662052</td>\n",
       "      <td>1.294026</td>\n",
       "      <td>133.945452</td>\n",
       "      <td>10351.06451</td>\n",
       "    </tr>\n",
       "    <tr>\n",
       "      <th>1</th>\n",
       "      <td>2022-09-01 00:00:00</td>\n",
       "      <td>225.0</td>\n",
       "      <td>221.009056</td>\n",
       "      <td>23.895230</td>\n",
       "      <td>36195.497</td>\n",
       "      <td>288.822052</td>\n",
       "      <td>-16.150944</td>\n",
       "      <td>51.662052</td>\n",
       "      <td>1.731018</td>\n",
       "      <td>133.945452</td>\n",
       "      <td>7737.95657</td>\n",
       "    </tr>\n",
       "  </tbody>\n",
       "</table>\n",
       "</div>"
      ],
      "text/plain": [
       "             Timestamp  Level  Temperature   Humidity  altitude (ft)  \\\n",
       "0  2022-09-01 00:00:00  200.0   217.590439  22.580428      38615.046   \n",
       "1  2022-09-01 00:00:00  225.0   221.009056  23.895230      36195.497   \n",
       "\n",
       "        Dewpt      TMP_C    dewPT_C  Saturated_Vapor_Pressur  \\\n",
       "0  288.822052 -19.569561  51.662052                 1.294026   \n",
       "1  288.822052 -16.150944  51.662052                 1.731018   \n",
       "\n",
       "   Actual_Vapor_Pressure     RH_water  \n",
       "0             133.945452  10351.06451  \n",
       "1             133.945452   7737.95657  "
      ]
     },
     "execution_count": 6,
     "metadata": {},
     "output_type": "execute_result"
    }
   ],
   "source": [
    "# Calculate saturation vapor pressure over water\n",
    "clean_data.loc[:, 'Saturated_Vapor_Pressur'] = 6.11 * 10 ** ((7.5 * clean_data['TMP_C']) / (237.3 + clean_data['TMP_C']))\n",
    "# Calculate actual vapor pressure\n",
    "clean_data.loc[:, 'Actual_Vapor_Pressure'] = 6.11 * 10 ** ((7.5 * clean_data['dewPT_C']) / (237.3 + clean_data['dewPT_C']))\n",
    "clean_data.head()\n",
    "# # Calculate relative humidity\n",
    "clean_data.loc[:, 'RH_water'] = (clean_data['Actual_Vapor_Pressure'] / clean_data['Saturated_Vapor_Pressur']) * 100\n",
    "clean_data.head(2)"
   ]
  },
  {
   "cell_type": "code",
   "execution_count": 9,
   "id": "6fe46dd1",
   "metadata": {},
   "outputs": [
    {
     "name": "stderr",
     "output_type": "stream",
     "text": [
      "C:\\Users\\abebe\\anaconda3\\lib\\site-packages\\pandas\\core\\arraylike.py:396: RuntimeWarning: overflow encountered in exp\n",
      "  result = getattr(ufunc, method)(*inputs, **kwargs)\n"
     ]
    },
    {
     "data": {
      "text/html": [
       "<div>\n",
       "<style scoped>\n",
       "    .dataframe tbody tr th:only-of-type {\n",
       "        vertical-align: middle;\n",
       "    }\n",
       "\n",
       "    .dataframe tbody tr th {\n",
       "        vertical-align: top;\n",
       "    }\n",
       "\n",
       "    .dataframe thead th {\n",
       "        text-align: right;\n",
       "    }\n",
       "</style>\n",
       "<table border=\"1\" class=\"dataframe\">\n",
       "  <thead>\n",
       "    <tr style=\"text-align: right;\">\n",
       "      <th></th>\n",
       "      <th>Timestamp</th>\n",
       "      <th>Level</th>\n",
       "      <th>Temperature</th>\n",
       "      <th>Humidity</th>\n",
       "      <th>altitude (ft)</th>\n",
       "      <th>Dewpt</th>\n",
       "      <th>TMP_C</th>\n",
       "      <th>dewPT_C</th>\n",
       "      <th>Saturated_Vapor_Pressur</th>\n",
       "      <th>Actual_Vapor_Pressure</th>\n",
       "      <th>RH_water</th>\n",
       "      <th>RH_ice</th>\n",
       "    </tr>\n",
       "  </thead>\n",
       "  <tbody>\n",
       "    <tr>\n",
       "      <th>0</th>\n",
       "      <td>2022-09-01 00:00:00</td>\n",
       "      <td>200.0</td>\n",
       "      <td>217.590439</td>\n",
       "      <td>22.580428</td>\n",
       "      <td>38615.046</td>\n",
       "      <td>288.822052</td>\n",
       "      <td>-19.569561</td>\n",
       "      <td>51.662052</td>\n",
       "      <td>1.294026</td>\n",
       "      <td>133.945452</td>\n",
       "      <td>10351.064510</td>\n",
       "      <td>3.120283e-59</td>\n",
       "    </tr>\n",
       "    <tr>\n",
       "      <th>1</th>\n",
       "      <td>2022-09-01 00:00:00</td>\n",
       "      <td>225.0</td>\n",
       "      <td>221.009056</td>\n",
       "      <td>23.895230</td>\n",
       "      <td>36195.497</td>\n",
       "      <td>288.822052</td>\n",
       "      <td>-16.150944</td>\n",
       "      <td>51.662052</td>\n",
       "      <td>1.731018</td>\n",
       "      <td>133.945452</td>\n",
       "      <td>7737.956570</td>\n",
       "      <td>1.510790e-70</td>\n",
       "    </tr>\n",
       "    <tr>\n",
       "      <th>2</th>\n",
       "      <td>2022-09-01 00:00:00</td>\n",
       "      <td>250.0</td>\n",
       "      <td>226.554466</td>\n",
       "      <td>19.933957</td>\n",
       "      <td>33984.704</td>\n",
       "      <td>288.822052</td>\n",
       "      <td>-10.605534</td>\n",
       "      <td>51.662052</td>\n",
       "      <td>2.723741</td>\n",
       "      <td>133.945452</td>\n",
       "      <td>4917.701050</td>\n",
       "      <td>8.061241e-99</td>\n",
       "    </tr>\n",
       "    <tr>\n",
       "      <th>3</th>\n",
       "      <td>2022-09-01 00:00:00</td>\n",
       "      <td>275.0</td>\n",
       "      <td>231.823334</td>\n",
       "      <td>17.869399</td>\n",
       "      <td>31946.256</td>\n",
       "      <td>288.822052</td>\n",
       "      <td>-5.336666</td>\n",
       "      <td>51.662052</td>\n",
       "      <td>4.106695</td>\n",
       "      <td>133.945452</td>\n",
       "      <td>3261.636587</td>\n",
       "      <td>4.423322e-150</td>\n",
       "    </tr>\n",
       "    <tr>\n",
       "      <th>4</th>\n",
       "      <td>2022-09-01 00:00:00</td>\n",
       "      <td>300.0</td>\n",
       "      <td>236.828835</td>\n",
       "      <td>14.600191</td>\n",
       "      <td>30052.740</td>\n",
       "      <td>288.822052</td>\n",
       "      <td>-0.331165</td>\n",
       "      <td>51.662052</td>\n",
       "      <td>5.964306</td>\n",
       "      <td>133.945452</td>\n",
       "      <td>2245.784392</td>\n",
       "      <td>7.905486e-266</td>\n",
       "    </tr>\n",
       "    <tr>\n",
       "      <th>...</th>\n",
       "      <td>...</td>\n",
       "      <td>...</td>\n",
       "      <td>...</td>\n",
       "      <td>...</td>\n",
       "      <td>...</td>\n",
       "      <td>...</td>\n",
       "      <td>...</td>\n",
       "      <td>...</td>\n",
       "      <td>...</td>\n",
       "      <td>...</td>\n",
       "      <td>...</td>\n",
       "      <td>...</td>\n",
       "    </tr>\n",
       "    <tr>\n",
       "      <th>34627</th>\n",
       "      <td>2022-12-22 23:00:00</td>\n",
       "      <td>400.0</td>\n",
       "      <td>242.988808</td>\n",
       "      <td>46.421067</td>\n",
       "      <td>23564.347</td>\n",
       "      <td>285.333466</td>\n",
       "      <td>5.828808</td>\n",
       "      <td>48.173466</td>\n",
       "      <td>9.243733</td>\n",
       "      <td>112.631907</td>\n",
       "      <td>1218.467822</td>\n",
       "      <td>0.000000e+00</td>\n",
       "    </tr>\n",
       "    <tr>\n",
       "      <th>34628</th>\n",
       "      <td>2022-12-22 23:00:00</td>\n",
       "      <td>425.0</td>\n",
       "      <td>246.693436</td>\n",
       "      <td>45.005139</td>\n",
       "      <td>22151.114</td>\n",
       "      <td>285.333466</td>\n",
       "      <td>9.533436</td>\n",
       "      <td>48.173466</td>\n",
       "      <td>11.904560</td>\n",
       "      <td>112.631907</td>\n",
       "      <td>946.124076</td>\n",
       "      <td>inf</td>\n",
       "    </tr>\n",
       "    <tr>\n",
       "      <th>34629</th>\n",
       "      <td>2022-12-22 23:00:00</td>\n",
       "      <td>450.0</td>\n",
       "      <td>250.197746</td>\n",
       "      <td>46.562771</td>\n",
       "      <td>20803.669</td>\n",
       "      <td>285.333466</td>\n",
       "      <td>13.037746</td>\n",
       "      <td>48.173466</td>\n",
       "      <td>15.019169</td>\n",
       "      <td>112.631907</td>\n",
       "      <td>749.921040</td>\n",
       "      <td>inf</td>\n",
       "    </tr>\n",
       "    <tr>\n",
       "      <th>34630</th>\n",
       "      <td>2022-12-22 23:00:00</td>\n",
       "      <td>475.0</td>\n",
       "      <td>253.413284</td>\n",
       "      <td>51.586541</td>\n",
       "      <td>19515.537</td>\n",
       "      <td>285.333466</td>\n",
       "      <td>16.253284</td>\n",
       "      <td>48.173466</td>\n",
       "      <td>18.484451</td>\n",
       "      <td>112.631907</td>\n",
       "      <td>609.333255</td>\n",
       "      <td>inf</td>\n",
       "    </tr>\n",
       "    <tr>\n",
       "      <th>34631</th>\n",
       "      <td>2022-12-22 23:00:00</td>\n",
       "      <td>500.0</td>\n",
       "      <td>256.426201</td>\n",
       "      <td>55.796688</td>\n",
       "      <td>18281.181</td>\n",
       "      <td>285.333466</td>\n",
       "      <td>19.266201</td>\n",
       "      <td>48.173466</td>\n",
       "      <td>22.347815</td>\n",
       "      <td>112.631907</td>\n",
       "      <td>503.995171</td>\n",
       "      <td>inf</td>\n",
       "    </tr>\n",
       "  </tbody>\n",
       "</table>\n",
       "<p>34632 rows × 12 columns</p>\n",
       "</div>"
      ],
      "text/plain": [
       "                 Timestamp  Level  Temperature   Humidity  altitude (ft)  \\\n",
       "0      2022-09-01 00:00:00  200.0   217.590439  22.580428      38615.046   \n",
       "1      2022-09-01 00:00:00  225.0   221.009056  23.895230      36195.497   \n",
       "2      2022-09-01 00:00:00  250.0   226.554466  19.933957      33984.704   \n",
       "3      2022-09-01 00:00:00  275.0   231.823334  17.869399      31946.256   \n",
       "4      2022-09-01 00:00:00  300.0   236.828835  14.600191      30052.740   \n",
       "...                    ...    ...          ...        ...            ...   \n",
       "34627  2022-12-22 23:00:00  400.0   242.988808  46.421067      23564.347   \n",
       "34628  2022-12-22 23:00:00  425.0   246.693436  45.005139      22151.114   \n",
       "34629  2022-12-22 23:00:00  450.0   250.197746  46.562771      20803.669   \n",
       "34630  2022-12-22 23:00:00  475.0   253.413284  51.586541      19515.537   \n",
       "34631  2022-12-22 23:00:00  500.0   256.426201  55.796688      18281.181   \n",
       "\n",
       "            Dewpt      TMP_C    dewPT_C  Saturated_Vapor_Pressur  \\\n",
       "0      288.822052 -19.569561  51.662052                 1.294026   \n",
       "1      288.822052 -16.150944  51.662052                 1.731018   \n",
       "2      288.822052 -10.605534  51.662052                 2.723741   \n",
       "3      288.822052  -5.336666  51.662052                 4.106695   \n",
       "4      288.822052  -0.331165  51.662052                 5.964306   \n",
       "...           ...        ...        ...                      ...   \n",
       "34627  285.333466   5.828808  48.173466                 9.243733   \n",
       "34628  285.333466   9.533436  48.173466                11.904560   \n",
       "34629  285.333466  13.037746  48.173466                15.019169   \n",
       "34630  285.333466  16.253284  48.173466                18.484451   \n",
       "34631  285.333466  19.266201  48.173466                22.347815   \n",
       "\n",
       "       Actual_Vapor_Pressure      RH_water         RH_ice  \n",
       "0                 133.945452  10351.064510   3.120283e-59  \n",
       "1                 133.945452   7737.956570   1.510790e-70  \n",
       "2                 133.945452   4917.701050   8.061241e-99  \n",
       "3                 133.945452   3261.636587  4.423322e-150  \n",
       "4                 133.945452   2245.784392  7.905486e-266  \n",
       "...                      ...           ...            ...  \n",
       "34627             112.631907   1218.467822   0.000000e+00  \n",
       "34628             112.631907    946.124076            inf  \n",
       "34629             112.631907    749.921040            inf  \n",
       "34630             112.631907    609.333255            inf  \n",
       "34631             112.631907    503.995171            inf  \n",
       "\n",
       "[34632 rows x 12 columns]"
      ]
     },
     "execution_count": 9,
     "metadata": {},
     "output_type": "execute_result"
    }
   ],
   "source": [
    "a_water = 17.2693882\n",
    "a_ice = 21.8745584\n",
    "b_water = 35.86\n",
    "b_ice = 7.66\n",
    "TMP = clean_data['TMP_C']\n",
    "# TMP = df['TMP_C']  # Temperature in Celsius\n",
    "RH_water = clean_data['RH_water']  # Relative humidity with respect to water\n",
    "\n",
    "clean_data.loc[: ,'RH_ice'] = RH_water * np.exp(a_water * (TMP - 273.16) / (TMP - b_water) - a_ice * (TMP - 273.16) / (TMP - b_ice))\n",
    "clean_data\n",
    "# df.head()"
   ]
  },
  {
   "cell_type": "code",
   "execution_count": null,
   "id": "d5926c3f",
   "metadata": {},
   "outputs": [],
   "source": [
    "# print( round(min(df['RH_water']),2))\n",
    "# print( round(max(df['RH_water']),2))"
   ]
  },
  {
   "cell_type": "markdown",
   "id": "840b5971",
   "metadata": {},
   "source": [
    "### Merging Atmospheric Data with Skydata"
   ]
  },
  {
   "cell_type": "code",
   "execution_count": null,
   "id": "99c9813a",
   "metadata": {},
   "outputs": [],
   "source": [
    "Atm_data = df.groupby('Timestamp').mean().reset_index().rename(columns={'Timestamp': 'Datetime', 'Dew Point Temperature' : 'atm_dewPt'})\n",
    "# Strip the last date from the atmospheric data to ensure consistency with the ground surface weather data\n",
    "\n",
    "Atm_data['Datetime'] = Atm_data['Datetime'].astype(str)\n",
    "Atm_data = Atm_data[~Atm_data['Datetime'].str.contains('2022-12-23')]\n",
    "\n",
    "\n",
    "# print (\"Ground Surface Data\")\n",
    "grd_data = groundWeatehrData.groupby('Datetime').mean('Temperature')\n"
   ]
  },
  {
   "cell_type": "code",
   "execution_count": null,
   "id": "f9d599a8",
   "metadata": {},
   "outputs": [],
   "source": [
    "# Strip the last date from the atmospheric data to ensure consistency with the ground surface weather data\n",
    "Atm_data = Atm_data[~Atm_data['Datetime'].str.contains('2022-12-23')]\n",
    "print (\"RAP Atmospheric Data\")\n",
    "print(Atm_data.shape)\n",
    "\n",
    "print (\"Ground Surface Data\")\n",
    "grd_data = groundWeatehrData.groupby('Datetime').mean('Temperature').reset_index()\n",
    "print(grd_data.shape)"
   ]
  },
  {
   "cell_type": "code",
   "execution_count": null,
   "id": "9cfde939",
   "metadata": {},
   "outputs": [],
   "source": [
    "# combined_data = pd.merge(Atm_data, grd_data, on=\"Datetime\")\n",
    "# #Renaming Ground Temprature and atmoshpheric temprature \n",
    "# # combined_data.rename(columns={'Temperature_x': 'atm_TMP', 'Temperature_y': 'grd_TMP'}, inplace=True)\n"
   ]
  },
  {
   "cell_type": "code",
   "execution_count": null,
   "id": "4cc10e8d",
   "metadata": {},
   "outputs": [],
   "source": [
    "df.to_csv('ConditionedAtmosphericData.csv', index=False)"
   ]
  },
  {
   "cell_type": "code",
   "execution_count": null,
   "id": "5a11f263",
   "metadata": {},
   "outputs": [],
   "source": [
    "# Convert the datetime column to Timestamp format\n",
    "# combined_data.reset_index(inplace=True)\n",
    "\n",
    "# combined_data['Datetime']= pd.to_datetime(combined_data['Datetime'], format='%Y-%m-%d %H:%M:%S')\n",
    "# combined_data['Datetime'].dtypes"
   ]
  },
  {
   "cell_type": "code",
   "execution_count": null,
   "id": "81527b87",
   "metadata": {},
   "outputs": [],
   "source": [
    "combined_data.loc[:, 'atm_TMP(F)'] = combined_data['atm_TMP'] - 237.16"
   ]
  },
  {
   "cell_type": "code",
   "execution_count": null,
   "id": "1545f25d",
   "metadata": {},
   "outputs": [],
   "source": [
    "combined_data.head(4)"
   ]
  },
  {
   "cell_type": "markdown",
   "id": "35355f12",
   "metadata": {},
   "source": [
    "## Data Exploration and Visualization"
   ]
  },
  {
   "cell_type": "code",
   "execution_count": null,
   "id": "38a0da04",
   "metadata": {},
   "outputs": [],
   "source": [
    "# combined_data.set_index('Datetime', inplace=True\n",
    "import plotly.express as px\n",
    "combined_data.head(2)"
   ]
  },
  {
   "cell_type": "code",
   "execution_count": null,
   "id": "0352b1b1",
   "metadata": {},
   "outputs": [],
   "source": [
    "# Plot the temperature data for the entire dataset\n",
    "plt.figure(figsize=(15, 7))\n",
    "sns.set_style('darkgrid')\n",
    "sns.lineplot(data=combined_data, x='Datetime', y='atm_TMP(F)', color='darkblue')\n",
    "\n",
    "# plt.xlabel('Date', fontsize=13, fontweight='bold')\n",
    "plt.ylabel('Temperature (°F)', fontsize=13, fontweight='bold')\n",
    "plt.xticks(rotation=30, fontsize=12)\n",
    "plt.yticks(fontsize=12)\n",
    "plt.title('Hourly Atmospheric Temperature (Sept 01 - Dec 22)', fontsize=16, fontweight='400', fontfamily='Arial')\n",
    "\n",
    "plt.show()"
   ]
  },
  {
   "cell_type": "code",
   "execution_count": null,
   "id": "36083b39",
   "metadata": {},
   "outputs": [],
   "source": [
    "# avg_TMP = combined_data['atm_TMP'].mean()\n",
    "\n",
    "# Plot the temperature data for the entire dataset\n",
    "plt.figure(figsize=(15, 7))\n",
    "sns.set_style('darkgrid')\n",
    "sns.lineplot(data=combined_data['Pressure'], color='darkblue')\n",
    "# Add the average line\n",
    "# plt.axhline(avg_TMP, color='red', linestyle='--', label='Average', lw='3')\n",
    "\n",
    "plt.xlabel('Date', fontsize=13, fontweight='bold')\n",
    "plt.ylabel('Temperature (°F)', fontsize=13, fontweight='bold')\n",
    "plt.xticks(rotation=30, fontsize=12)\n",
    "plt.yticks(fontsize=12)\n",
    "plt.title('Hourly Atmospheric Temperature ((Sept 01 - Dec 22) ', fontsize=16, fontweight='400', fontfamily='Arial')\n",
    "\n",
    "plt.show()"
   ]
  },
  {
   "cell_type": "code",
   "execution_count": null,
   "id": "e742d763",
   "metadata": {},
   "outputs": [],
   "source": [
    "plt.figure(figsize=(15, 7))\n",
    "sns.set_style('darkgrid')\n",
    "sns.lineplot(data=combined_data['Humidity'], color='darkgreen')\n",
    "plt.xlabel('Datetime', fontsize=13, fontweight='bold')\n",
    "plt.ylabel('Humidity (%)', fontsize=13, fontweight='bold')\n",
    "plt.xticks(rotation=30, fontsize=12)\n",
    "plt.yticks(fontsize=12)\n",
    "plt.title('Hourly Atmospheric Humidity (Sept 01 - Dec 22)',  fontsize=16, fontweight='400', fontfamily='Arial')\n",
    "\n",
    "plt.show()"
   ]
  },
  {
   "cell_type": "code",
   "execution_count": null,
   "id": "946a2e5c",
   "metadata": {},
   "outputs": [],
   "source": [
    "# combined_data.set_index('Datetime', inplace=True)\n",
    "# combined_data.head(3)"
   ]
  },
  {
   "cell_type": "code",
   "execution_count": null,
   "id": "c52dbefd",
   "metadata": {},
   "outputs": [],
   "source": [
    "combined_data.index = pd.to_datetime(combined_data.index)\n",
    "combined_data.head()\n",
    "# Create a subset for 4-week span with midnight data\n",
    "start_date = pd.Timestamp('2022-09-01 00:00:00')\n",
    "end_date = start_date + pd.DateOffset(weeks=4)\n",
    "midnight_subset = combined_data.between_time('00:00:00', '00:00:00').loc[start_date:end_date]\n",
    "morning_subset = combined_data.between_time('06:00', '06:00').loc[start_date:end_date]\n",
    "afternoon_subset = combined_data.between_time('12:00', '12:00').loc[start_date:end_date]\n",
    "evening_subset = combined_data.between_time('18:00', '18:00').loc[start_date:end_date]\n"
   ]
  },
  {
   "cell_type": "code",
   "execution_count": null,
   "id": "f6179a7c",
   "metadata": {},
   "outputs": [],
   "source": [
    "# Plot the temperature data\n",
    "plt.figure(figsize=(15, 7))\n",
    "sns.set_style('darkgrid')\n",
    "sns.lineplot(data=midnight_subset['atm_TMP(F)'], color='darkblue', ls='dashed', marker='s')\n",
    "\n",
    "plt.xlabel('Date', fontsize=13, fontweight='bold')\n",
    "plt.ylabel('Temperature (°F)', fontsize=13, fontweight='bold')\n",
    "plt.xticks(rotation=30, fontsize=12)\n",
    "plt.yticks(fontsize=12)\n",
    "plt.title('Midnight Atmospheric Temperature over 4 Weeks Span', fontsize=16, fontweight='400', fontfamily='Arial')\n",
    "\n",
    "plt.show()"
   ]
  },
  {
   "cell_type": "code",
   "execution_count": null,
   "id": "cd1d76fc",
   "metadata": {},
   "outputs": [],
   "source": [
    "# Plot the temperature data\n",
    "plt.figure(figsize=(15, 7))\n",
    "sns.set_style('darkgrid')\n",
    "sns.lineplot(data=midnight_subset['Pressure'], color='purple', ls='dashed', marker='s')\n",
    "\n",
    "plt.xlabel('Date', fontsize=13, fontweight='bold')\n",
    "plt.ylabel('hPa', fontsize=13, fontweight='bold')\n",
    "plt.xticks(rotation=30, fontsize=12)\n",
    "plt.yticks(fontsize=12)\n",
    "plt.title('Midnight Atmospheric Pressure over 4 Weeks Span', fontsize=16, fontweight='400', fontfamily='Arial')\n",
    "\n",
    "plt.show()"
   ]
  },
  {
   "cell_type": "code",
   "execution_count": null,
   "id": "16dd0086",
   "metadata": {},
   "outputs": [],
   "source": []
  },
  {
   "cell_type": "code",
   "execution_count": null,
   "id": "f8ddab35",
   "metadata": {},
   "outputs": [],
   "source": [
    "combined_data.index = pd.to_datetime(combined_data.index)\n",
    "#create a subset for 4 week spans \n",
    "start_date = pd.Timestamp('2022-09-01 00:00:00')\n",
    "end_date = start_date + pd.DateOffset(weeks=4)\n",
    "subset = combined_data.between_time('00:00', '23:00').loc[start_date:end_date]\n",
    "\n",
    "#plot\n",
    "plt.figure(figsize=(15, 7))\n",
    "sns.set_style('darkgrid')\n",
    "sns.lineplot(data=subset['atm_TMP'], color='darkgreen', ls='dashed', marker='')\n",
    "\n",
    "plt.xlabel('Date', fontsize=13, fontweight='bold')\n",
    "plt.ylabel('Temperature (°F)', fontsize=13, fontweight='bold')\n",
    "plt.xticks(rotation=30, fontsize=12)\n",
    "plt.yticks(fontsize=12)\n",
    "plt.title(' Atmospheric Temperature over 4 Weeks Span', fontsize=16, fontweight='400', fontfamily='Arial')"
   ]
  },
  {
   "cell_type": "code",
   "execution_count": null,
   "id": "b417f005",
   "metadata": {},
   "outputs": [],
   "source": [
    "combined_data.index = pd.to_datetime(combined_data.index)\n",
    "#create a subset for 4 week spans \n",
    "start_date = pd.Timestamp('2022-09-01 00:00:00')\n",
    "end_date = start_date + pd.DateOffset(weeks=4)\n",
    "subset = combined_data.between_time('00:00', '23:00').loc[start_date:end_date]\n",
    "\n",
    "#plot\n",
    "plt.figure(figsize=(15, 7))\n",
    "sns.set_style('darkgrid')\n",
    "sns.lineplot(data=subset['Pressure'], color='darkgreen', ls='dashed', marker='')\n",
    "\n",
    "plt.xlabel('Date', fontsize=13, fontweight='bold')\n",
    "plt.ylabel('hPa', fontsize=13, fontweight='bold')\n",
    "plt.xticks(rotation=30, fontsize=12)\n",
    "plt.yticks(fontsize=12)\n",
    "plt.title(' Atmospheric Pressure over 4 Weeks Span', fontsize=16, fontweight='400', fontfamily='Arial')"
   ]
  },
  {
   "cell_type": "code",
   "execution_count": null,
   "id": "1adb7577",
   "metadata": {},
   "outputs": [],
   "source": [
    "# Plot the Humidity data\n",
    "plt.figure(figsize=(15, 7))\n",
    "sns.set_style('darkgrid')\n",
    "sns.lineplot(data=midnight_subset['Humidity'], color='darkblue', ls='dashed', marker='')\n",
    "\n",
    "plt.xlabel('Date', fontsize=13, fontweight='bold')\n",
    "plt.ylabel('Humidity (%)', fontsize=13, fontweight='bold')\n",
    "plt.xticks(rotation=30, fontsize=12)\n",
    "plt.yticks(fontsize=12)\n",
    "plt.title(' Midnight Atmospheric Humidity over 4 Weeks Span', fontsize=16, fontweight='400', fontfamily='Arial')\n",
    "\n",
    "\n",
    "plt.show()"
   ]
  },
  {
   "cell_type": "code",
   "execution_count": null,
   "id": "05ad7460",
   "metadata": {},
   "outputs": [],
   "source": [
    "# Plot the temperature data\n",
    "plt.figure(figsize=(15, 7))\n",
    "sns.set_style('darkgrid')\n",
    "sns.lineplot(data=midnight_subset['atm_TMP'], color='darkblue')\n",
    "\n",
    "sns.lineplot(data=morning_subset['atm_TMP'], color='purple', label='Morning', linestyle='solid' )\n",
    "sns.lineplot(data=afternoon_subset['atm_TMP'], color='darkgreen', label='Noon', linestyle='solid', lw='1.7')\n",
    "sns.lineplot(data=evening_subset['atm_TMP'], color='black', label='Evening', lw='1')\n",
    "plt.axhline(avg_TMP, color='red', linestyle='--', label='Average', lw='2'\n",
    "           )\n",
    "\n",
    "plt.xlabel('Date', fontsize=13, fontweight='bold')\n",
    "plt.ylabel('Temperature (°F)', fontsize=13, fontweight='bold')\n",
    "plt.xticks(rotation=30, fontsize=12)\n",
    "plt.yticks(fontsize=12)\n",
    "plt.title('Atmospheric Temperature over 4 Weeks Span Every 6 Hours', fontsize=16, fontweight='400', fontfamily='Arial')\n",
    "\n",
    "plt.show()"
   ]
  }
 ],
 "metadata": {
  "kernelspec": {
   "display_name": "Python 3",
   "language": "python",
   "name": "python3"
  },
  "language_info": {
   "codemirror_mode": {
    "name": "ipython",
    "version": 3
   },
   "file_extension": ".py",
   "mimetype": "text/x-python",
   "name": "python",
   "nbconvert_exporter": "python",
   "pygments_lexer": "ipython3",
   "version": "3.8.8"
  }
 },
 "nbformat": 4,
 "nbformat_minor": 5
}
