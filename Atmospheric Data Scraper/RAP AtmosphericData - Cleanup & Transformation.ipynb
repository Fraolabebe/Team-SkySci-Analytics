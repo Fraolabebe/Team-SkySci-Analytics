{
 "cells": [
  {
   "cell_type": "code",
   "execution_count": 1,
   "id": "f1ffa402",
   "metadata": {},
   "outputs": [],
   "source": [
    "# Import libraries\n",
    "import pandas as pd\n",
    "import numpy as np\n",
    "import matplotlib.pyplot as plt\n",
    "import seaborn as sns"
   ]
  },
  {
   "cell_type": "code",
   "execution_count": 2,
   "id": "dc0ead48",
   "metadata": {},
   "outputs": [],
   "source": [
    "path1 = r\"C:\\Users\\abebe\\Documents\\George Mason University\\6- SUMME 2023\\Team-SkySci-Analytics\\ML Application and Analysis\\ML Atmospheric analysis\\Atmospheric Raw Data\\sept_finalized_master.csv\"\n",
    "path2 = r\"C:\\Users\\abebe\\Documents\\George Mason University\\6- SUMME 2023\\Team-SkySci-Analytics\\ML Application and Analysis\\ML Atmospheric analysis\\Atmospheric Raw Data\\oct_finalized_master.csv\"\n",
    "path3 = r\"C:\\Users\\abebe\\Documents\\George Mason University\\6- SUMME 2023\\Team-SkySci-Analytics\\ML Application and Analysis\\ML Atmospheric analysis\\Atmospheric Raw Data\\nov_finalized_master.csv\"\n",
    "path4 = r\"C:\\Users\\abebe\\Documents\\George Mason University\\6- SUMME 2023\\Team-SkySci-Analytics\\ML Application and Analysis\\ML Atmospheric analysis\\Atmospheric Raw Data\\dec_finalized_master.csv\"\n",
    "\n",
    "september_data = pd.read_csv(path1)\n",
    "october_data = pd.read_csv(path2)\n",
    "november_data = pd.read_csv(path3)\n",
    "december_data = pd.read_csv(path4)"
   ]
  },
  {
   "cell_type": "code",
   "execution_count": 4,
   "id": "9da36347",
   "metadata": {},
   "outputs": [
    {
     "data": {
      "text/html": [
       "<div>\n",
       "<style scoped>\n",
       "    .dataframe tbody tr th:only-of-type {\n",
       "        vertical-align: middle;\n",
       "    }\n",
       "\n",
       "    .dataframe tbody tr th {\n",
       "        vertical-align: top;\n",
       "    }\n",
       "\n",
       "    .dataframe thead th {\n",
       "        text-align: right;\n",
       "    }\n",
       "</style>\n",
       "<table border=\"1\" class=\"dataframe\">\n",
       "  <thead>\n",
       "    <tr style=\"text-align: right;\">\n",
       "      <th></th>\n",
       "      <th>Timestamp</th>\n",
       "      <th>Level</th>\n",
       "      <th>Temperature</th>\n",
       "      <th>Humidity</th>\n",
       "    </tr>\n",
       "  </thead>\n",
       "  <tbody>\n",
       "    <tr>\n",
       "      <th>0</th>\n",
       "      <td>2022-09-01 00:00:00</td>\n",
       "      <td>500.0</td>\n",
       "      <td>267.635651</td>\n",
       "      <td>16.750164</td>\n",
       "    </tr>\n",
       "    <tr>\n",
       "      <th>1</th>\n",
       "      <td>2022-09-01 00:00:00</td>\n",
       "      <td>500.0</td>\n",
       "      <td>267.635651</td>\n",
       "      <td>16.136373</td>\n",
       "    </tr>\n",
       "    <tr>\n",
       "      <th>2</th>\n",
       "      <td>2022-09-01 00:00:00</td>\n",
       "      <td>500.0</td>\n",
       "      <td>267.653091</td>\n",
       "      <td>16.750164</td>\n",
       "    </tr>\n",
       "    <tr>\n",
       "      <th>3</th>\n",
       "      <td>2022-09-01 00:00:00</td>\n",
       "      <td>500.0</td>\n",
       "      <td>267.653091</td>\n",
       "      <td>16.136373</td>\n",
       "    </tr>\n",
       "    <tr>\n",
       "      <th>4</th>\n",
       "      <td>2022-09-01 00:00:00</td>\n",
       "      <td>375.0</td>\n",
       "      <td>250.282867</td>\n",
       "      <td>10.501970</td>\n",
       "    </tr>\n",
       "  </tbody>\n",
       "</table>\n",
       "</div>"
      ],
      "text/plain": [
       "             Timestamp  Level  Temperature   Humidity\n",
       "0  2022-09-01 00:00:00  500.0   267.635651  16.750164\n",
       "1  2022-09-01 00:00:00  500.0   267.635651  16.136373\n",
       "2  2022-09-01 00:00:00  500.0   267.653091  16.750164\n",
       "3  2022-09-01 00:00:00  500.0   267.653091  16.136373\n",
       "4  2022-09-01 00:00:00  375.0   250.282867  10.501970"
      ]
     },
     "execution_count": 4,
     "metadata": {},
     "output_type": "execute_result"
    }
   ],
   "source": [
    "df = pd.concat([september_data, october_data, november_data, december_data], ignore_index=True)\n",
    "df.head()"
   ]
  },
  {
   "cell_type": "code",
   "execution_count": 5,
   "id": "e211d64a",
   "metadata": {},
   "outputs": [
    {
     "data": {
      "text/html": [
       "<div>\n",
       "<style scoped>\n",
       "    .dataframe tbody tr th:only-of-type {\n",
       "        vertical-align: middle;\n",
       "    }\n",
       "\n",
       "    .dataframe tbody tr th {\n",
       "        vertical-align: top;\n",
       "    }\n",
       "\n",
       "    .dataframe thead th {\n",
       "        text-align: right;\n",
       "    }\n",
       "</style>\n",
       "<table border=\"1\" class=\"dataframe\">\n",
       "  <thead>\n",
       "    <tr style=\"text-align: right;\">\n",
       "      <th></th>\n",
       "      <th>Timestamp</th>\n",
       "      <th>Level</th>\n",
       "      <th>Temperature</th>\n",
       "      <th>Humidity</th>\n",
       "    </tr>\n",
       "  </thead>\n",
       "  <tbody>\n",
       "    <tr>\n",
       "      <th>1</th>\n",
       "      <td>2022-09-01 00:00:00</td>\n",
       "      <td>500.0</td>\n",
       "      <td>267.635651</td>\n",
       "      <td>16.136373</td>\n",
       "    </tr>\n",
       "    <tr>\n",
       "      <th>5</th>\n",
       "      <td>2022-09-01 00:00:00</td>\n",
       "      <td>375.0</td>\n",
       "      <td>250.282867</td>\n",
       "      <td>12.255937</td>\n",
       "    </tr>\n",
       "  </tbody>\n",
       "</table>\n",
       "</div>"
      ],
      "text/plain": [
       "             Timestamp  Level  Temperature   Humidity\n",
       "1  2022-09-01 00:00:00  500.0   267.635651  16.136373\n",
       "5  2022-09-01 00:00:00  375.0   250.282867  12.255937"
      ]
     },
     "execution_count": 5,
     "metadata": {},
     "output_type": "execute_result"
    }
   ],
   "source": [
    "# Remove duplicates\n",
    "# Drop duplicates from 'Humidity' column while keeping 'Timestamp' and 'Level' unique\n",
    "df.drop_duplicates(subset=['Timestamp', 'Level', 'Humidity'], inplace=True)\n",
    "# Group by 'Timestamp' and 'Level', and keep only the second row for 'Humidity'\n",
    "master_data = df.groupby(['Timestamp', 'Level'], as_index=False).nth(1)\n",
    "\n",
    "# Print the final result\n",
    "master_data.head(2)"
   ]
  },
  {
   "cell_type": "markdown",
   "id": "10b55462",
   "metadata": {},
   "source": [
    "# Calculate flight Altitude "
   ]
  },
  {
   "cell_type": "markdown",
   "id": "643fa7d8",
   "metadata": {},
   "source": [
    "The altitude calculation was based on the following resources, which are also utilized for pressure conversion.\n",
    "\n",
    "* https://www.weather.gov/media/epz/wxcalc/pressureAltitude.pdf\n",
    "* https://www.weather.gov/media/epz/wxcalc/pressureConversion.pdf\n",
    "* https://www.weather.gov/media/epz/wxcalc/vaporPressure.pdf\n",
    "* https://www.weather.gov/media/epz/wxcalc/tempConvert.pdf\n"
   ]
  },
  {
   "cell_type": "code",
   "execution_count": 8,
   "id": "6bd23f6d",
   "metadata": {},
   "outputs": [
    {
     "data": {
      "text/html": [
       "<div>\n",
       "<style scoped>\n",
       "    .dataframe tbody tr th:only-of-type {\n",
       "        vertical-align: middle;\n",
       "    }\n",
       "\n",
       "    .dataframe tbody tr th {\n",
       "        vertical-align: top;\n",
       "    }\n",
       "\n",
       "    .dataframe thead th {\n",
       "        text-align: right;\n",
       "    }\n",
       "</style>\n",
       "<table border=\"1\" class=\"dataframe\">\n",
       "  <thead>\n",
       "    <tr style=\"text-align: right;\">\n",
       "      <th></th>\n",
       "      <th>Timestamp</th>\n",
       "      <th>Level</th>\n",
       "      <th>Temperature</th>\n",
       "      <th>Relative Humidity</th>\n",
       "      <th>altitude (ft)</th>\n",
       "    </tr>\n",
       "  </thead>\n",
       "  <tbody>\n",
       "    <tr>\n",
       "      <th>1</th>\n",
       "      <td>2022-09-01 00:00:00</td>\n",
       "      <td>500.0</td>\n",
       "      <td>267.635651</td>\n",
       "      <td>16.136373</td>\n",
       "      <td>18281.181</td>\n",
       "    </tr>\n",
       "    <tr>\n",
       "      <th>5</th>\n",
       "      <td>2022-09-01 00:00:00</td>\n",
       "      <td>375.0</td>\n",
       "      <td>250.282867</td>\n",
       "      <td>12.255937</td>\n",
       "      <td>25051.008</td>\n",
       "    </tr>\n",
       "  </tbody>\n",
       "</table>\n",
       "</div>"
      ],
      "text/plain": [
       "             Timestamp  Level  Temperature  Relative Humidity  altitude (ft)\n",
       "1  2022-09-01 00:00:00  500.0   267.635651          16.136373      18281.181\n",
       "5  2022-09-01 00:00:00  375.0   250.282867          12.255937      25051.008"
      ]
     },
     "execution_count": 8,
     "metadata": {},
     "output_type": "execute_result"
    }
   ],
   "source": [
    "def calculate_altitude(Pressure):\n",
    "    altitude = (1 - ((Pressure) / 1013.25) ** 0.190284) * 145366.45  #  divide presssure 100 to convert it from Pascal to hpa\n",
    "    return round(altitude, 3)\n",
    "master_data.loc[:, 'altitude (ft)'] = calculate_altitude(master_data['Level'])\n",
    "clean_data = master_data.rename(columns={\"Humidity\": \"Relative Humidity\"})\n",
    "clean_data.head(2)"
   ]
  },
  {
   "cell_type": "code",
   "execution_count": 9,
   "id": "c061da46",
   "metadata": {},
   "outputs": [
    {
     "name": "stdout",
     "output_type": "stream",
     "text": [
      "18281.18\n",
      "38615.05\n"
     ]
    }
   ],
   "source": [
    "print( round(min(master_data['altitude (ft)']),2))\n",
    "print( round(max(master_data['altitude (ft)']),2))\n"
   ]
  },
  {
   "cell_type": "code",
   "execution_count": null,
   "id": "9bad92a9",
   "metadata": {},
   "outputs": [],
   "source": [
    "# Path5 = r\"C:\\Users\\abebe\\Documents\\George Mason University\\6- SUMME 2023\\Team-SkySci-Analytics\\Atmospheric Data Scraper\\dewPt_data.csv\"\n",
    "# dewptData = pd.read_csv(Path5)\n",
    "# dewptData"
   ]
  },
  {
   "cell_type": "code",
   "execution_count": null,
   "id": "8be47307",
   "metadata": {},
   "outputs": [],
   "source": [
    "# dewptData['Timestamp'] = pd.to_datetime(dewptData['Timestamp'])\n",
    "\n",
    "# # Converting timestamp format \n",
    "# dewptData['Timestamp'] = pd.to_datetime(dewptData['Timestamp'], format='%m/%d/%Y %H:%M').dt.strftime('%Y-%m-%d %H:%M:%S')\n",
    "# df = dewptData[['Timestamp', 'Dew Point Temperature' ]].rename(columns={\"Dew Point Temperature\": \"dewPt\"})\n",
    "# df.groupby('Timestamp').mean().reset_index()"
   ]
  },
  {
   "cell_type": "code",
   "execution_count": null,
   "id": "f4d871b5",
   "metadata": {},
   "outputs": [],
   "source": [
    "# dewpt_dict = df.set_index('Timestamp')['dewPt'].to_dict()\n",
    "# # Mapping the dewpt data to master_data based on the 'Timestamp'\n",
    "# master_data['Dewpt'] = master_data['Timestamp'].map(dewpt_dict)\n",
    "# # master_data"
   ]
  },
  {
   "cell_type": "markdown",
   "id": "1c9fd380",
   "metadata": {},
   "source": [
    "# Mapping Image Data from sky Metada "
   ]
  },
  {
   "cell_type": "code",
   "execution_count": 10,
   "id": "80cccdac",
   "metadata": {
    "scrolled": true
   },
   "outputs": [
    {
     "data": {
      "text/html": [
       "<div>\n",
       "<style scoped>\n",
       "    .dataframe tbody tr th:only-of-type {\n",
       "        vertical-align: middle;\n",
       "    }\n",
       "\n",
       "    .dataframe tbody tr th {\n",
       "        vertical-align: top;\n",
       "    }\n",
       "\n",
       "    .dataframe thead th {\n",
       "        text-align: right;\n",
       "    }\n",
       "</style>\n",
       "<table border=\"1\" class=\"dataframe\">\n",
       "  <thead>\n",
       "    <tr style=\"text-align: right;\">\n",
       "      <th></th>\n",
       "      <th>Timestamp</th>\n",
       "      <th>Image Present</th>\n",
       "      <th>Low/Mid Clouds (%)</th>\n",
       "      <th>High Cirrus (%)</th>\n",
       "      <th>Long-lived Contrails (Count)</th>\n",
       "      <th>Contrail-Cirrus (Count)</th>\n",
       "      <th>Day Low/Mid</th>\n",
       "      <th>Day Count Cirrs</th>\n",
       "      <th>Day Count Cont LL</th>\n",
       "      <th>Day Count Cont-Cirrus</th>\n",
       "    </tr>\n",
       "  </thead>\n",
       "  <tbody>\n",
       "    <tr>\n",
       "      <th>0</th>\n",
       "      <td>2022-09-01 01:00:00</td>\n",
       "      <td>0.0</td>\n",
       "      <td>NaN</td>\n",
       "      <td>NaN</td>\n",
       "      <td>NaN</td>\n",
       "      <td>NaN</td>\n",
       "      <td>NaN</td>\n",
       "      <td>NaN</td>\n",
       "      <td>NaN</td>\n",
       "      <td>NaN</td>\n",
       "    </tr>\n",
       "    <tr>\n",
       "      <th>1</th>\n",
       "      <td>2022-09-01 02:00:00</td>\n",
       "      <td>0.0</td>\n",
       "      <td>NaN</td>\n",
       "      <td>NaN</td>\n",
       "      <td>NaN</td>\n",
       "      <td>NaN</td>\n",
       "      <td>NaN</td>\n",
       "      <td>NaN</td>\n",
       "      <td>NaN</td>\n",
       "      <td>NaN</td>\n",
       "    </tr>\n",
       "    <tr>\n",
       "      <th>2</th>\n",
       "      <td>2022-09-01 03:00:00</td>\n",
       "      <td>0.0</td>\n",
       "      <td>NaN</td>\n",
       "      <td>NaN</td>\n",
       "      <td>NaN</td>\n",
       "      <td>NaN</td>\n",
       "      <td>NaN</td>\n",
       "      <td>NaN</td>\n",
       "      <td>NaN</td>\n",
       "      <td>NaN</td>\n",
       "    </tr>\n",
       "  </tbody>\n",
       "</table>\n",
       "</div>"
      ],
      "text/plain": [
       "             Timestamp  Image Present  Low/Mid Clouds (%)  High Cirrus (%)  \\\n",
       "0  2022-09-01 01:00:00            0.0                 NaN              NaN   \n",
       "1  2022-09-01 02:00:00            0.0                 NaN              NaN   \n",
       "2  2022-09-01 03:00:00            0.0                 NaN              NaN   \n",
       "\n",
       "   Long-lived Contrails (Count)  Contrail-Cirrus (Count)  Day Low/Mid  \\\n",
       "0                           NaN                      NaN          NaN   \n",
       "1                           NaN                      NaN          NaN   \n",
       "2                           NaN                      NaN          NaN   \n",
       "\n",
       "   Day Count Cirrs  Day Count Cont LL  Day Count Cont-Cirrus  \n",
       "0              NaN                NaN                    NaN  \n",
       "1              NaN                NaN                    NaN  \n",
       "2              NaN                NaN                    NaN  "
      ]
     },
     "execution_count": 10,
     "metadata": {},
     "output_type": "execute_result"
    }
   ],
   "source": [
    "path6 = r\"C:\\Users\\abebe\\Documents\\George Mason University\\6- SUMME 2023\\Team-SkySci-Analytics\\Metadata Cleanup\\SkyConditionData_cleaned.csv\"\n",
    "imagedata= pd.read_csv(path6)\n",
    "imagedata.rename(columns={\"Datetime\": \"Timestamp\"}, inplace=True)\n",
    "imagedata.head(3)"
   ]
  },
  {
   "cell_type": "code",
   "execution_count": 8,
   "id": "3213172e",
   "metadata": {},
   "outputs": [
    {
     "data": {
      "text/plain": [
       "Timestamp                          0\n",
       "Image Present                      0\n",
       "Low/Mid Clouds (%)              1354\n",
       "High Cirrus (%)                 1625\n",
       "Long-lived Contrails (Count)    1670\n",
       "Contrail-Cirrus (Count)         1668\n",
       "Day Low/Mid                     2569\n",
       "Day Count Cirrs                 2569\n",
       "Day Count Cont LL               2569\n",
       "Day Count Cont-Cirrus           2569\n",
       "dtype: int64"
      ]
     },
     "execution_count": 8,
     "metadata": {},
     "output_type": "execute_result"
    }
   ],
   "source": [
    "imagedata.isnull().sum()"
   ]
  },
  {
   "cell_type": "code",
   "execution_count": 9,
   "id": "049cecee",
   "metadata": {},
   "outputs": [],
   "source": [
    "# clean_data = master_data.groupby(['Timestamp', 'Level']).mean().reset_index()\n",
    "# clean_data"
   ]
  },
  {
   "cell_type": "code",
   "execution_count": 22,
   "id": "303dbe80",
   "metadata": {},
   "outputs": [
    {
     "data": {
      "text/plain": [
       "Timestamp                       datetime64[ns]\n",
       "Image Present                          float64\n",
       "Low/Mid Clouds (%)                     float64\n",
       "High Cirrus (%)                        float64\n",
       "Long-lived Contrails (Count)           float64\n",
       "Contrail-Cirrus (Count)                float64\n",
       "Day Low/Mid                            float64\n",
       "Day Count Cirrs                        float64\n",
       "Day Count Cont LL                      float64\n",
       "Day Count Cont-Cirrus                  float64\n",
       "dtype: object"
      ]
     },
     "execution_count": 22,
     "metadata": {},
     "output_type": "execute_result"
    }
   ],
   "source": [
    "clean_data['Timestamp'] = pd.to_datetime(clean_data['Timestamp'])\n",
    "imagedata['Timestamp'] = pd.to_datetime(imagedata['Timestamp'])\n",
    "\n",
    "clean_data.dtypes\n",
    "imagedata.dtypes"
   ]
  },
  {
   "cell_type": "code",
   "execution_count": 38,
   "id": "16d8b502",
   "metadata": {},
   "outputs": [],
   "source": [
    "# Convert 'Timestamp' column to datetime type in both DataFrames\n",
    "clean_data['Timestamp'] = pd.to_datetime(clean_data['Timestamp'])\n",
    "imagedata['Timestamp'] = pd.to_datetime(imagedata['Timestamp'])\n",
    "\n",
    "image_dict = imagedata.set_index('Timestamp')['Image Present'].to_dict()\n",
    "# clean_data['Image Present'] = clean_data['Timestamp'].map(image_dict)\n",
    "# clean_data.tail(50)"
   ]
  },
  {
   "cell_type": "code",
   "execution_count": 24,
   "id": "6ceaa03d",
   "metadata": {},
   "outputs": [
    {
     "data": {
      "text/html": [
       "<div>\n",
       "<style scoped>\n",
       "    .dataframe tbody tr th:only-of-type {\n",
       "        vertical-align: middle;\n",
       "    }\n",
       "\n",
       "    .dataframe tbody tr th {\n",
       "        vertical-align: top;\n",
       "    }\n",
       "\n",
       "    .dataframe thead th {\n",
       "        text-align: right;\n",
       "    }\n",
       "</style>\n",
       "<table border=\"1\" class=\"dataframe\">\n",
       "  <thead>\n",
       "    <tr style=\"text-align: right;\">\n",
       "      <th></th>\n",
       "      <th>Timestamp</th>\n",
       "      <th>Level</th>\n",
       "      <th>Temperature</th>\n",
       "      <th>Relative Humidity</th>\n",
       "      <th>altitude (ft)</th>\n",
       "      <th>Image Present</th>\n",
       "    </tr>\n",
       "  </thead>\n",
       "  <tbody>\n",
       "    <tr>\n",
       "      <th>53</th>\n",
       "      <td>2022-09-01 01:00:00</td>\n",
       "      <td>500.0</td>\n",
       "      <td>267.690735</td>\n",
       "      <td>15.713322</td>\n",
       "      <td>18281.181</td>\n",
       "      <td>0.0</td>\n",
       "    </tr>\n",
       "    <tr>\n",
       "      <th>57</th>\n",
       "      <td>2022-09-01 01:00:00</td>\n",
       "      <td>475.0</td>\n",
       "      <td>264.653305</td>\n",
       "      <td>13.301727</td>\n",
       "      <td>19515.537</td>\n",
       "      <td>0.0</td>\n",
       "    </tr>\n",
       "    <tr>\n",
       "      <th>61</th>\n",
       "      <td>2022-09-01 01:00:00</td>\n",
       "      <td>450.0</td>\n",
       "      <td>261.224030</td>\n",
       "      <td>13.430310</td>\n",
       "      <td>20803.669</td>\n",
       "      <td>0.0</td>\n",
       "    </tr>\n",
       "  </tbody>\n",
       "</table>\n",
       "</div>"
      ],
      "text/plain": [
       "             Timestamp  Level  Temperature  Relative Humidity  altitude (ft)  \\\n",
       "53 2022-09-01 01:00:00  500.0   267.690735          15.713322      18281.181   \n",
       "57 2022-09-01 01:00:00  475.0   264.653305          13.301727      19515.537   \n",
       "61 2022-09-01 01:00:00  450.0   261.224030          13.430310      20803.669   \n",
       "\n",
       "    Image Present  \n",
       "53            0.0  \n",
       "57            0.0  \n",
       "61            0.0  "
      ]
     },
     "execution_count": 24,
     "metadata": {},
     "output_type": "execute_result"
    }
   ],
   "source": [
    "# Create a new column 'Image Present' in 'clean_data' and map the values from 'image_dict'\n",
    "clean_data['Image Present'] = clean_data['Timestamp'].map(image_dict)\n",
    "\n",
    "# Print the 'clean_data' DataFrame with the 'Image Present' column updated\n",
    "clean_data.head(3)"
   ]
  },
  {
   "cell_type": "code",
   "execution_count": 37,
   "id": "d5c2acb8",
   "metadata": {},
   "outputs": [
    {
     "data": {
      "text/html": [
       "<div>\n",
       "<style scoped>\n",
       "    .dataframe tbody tr th:only-of-type {\n",
       "        vertical-align: middle;\n",
       "    }\n",
       "\n",
       "    .dataframe tbody tr th {\n",
       "        vertical-align: top;\n",
       "    }\n",
       "\n",
       "    .dataframe thead th {\n",
       "        text-align: right;\n",
       "    }\n",
       "</style>\n",
       "<table border=\"1\" class=\"dataframe\">\n",
       "  <thead>\n",
       "    <tr style=\"text-align: right;\">\n",
       "      <th></th>\n",
       "      <th>Timestamp</th>\n",
       "      <th>Level</th>\n",
       "      <th>Temperature</th>\n",
       "      <th>Relative Humidity</th>\n",
       "      <th>altitude (ft)</th>\n",
       "      <th>Image Present</th>\n",
       "    </tr>\n",
       "  </thead>\n",
       "  <tbody>\n",
       "    <tr>\n",
       "      <th>53</th>\n",
       "      <td>2022-09-01 01:00:00</td>\n",
       "      <td>500.0</td>\n",
       "      <td>267.691</td>\n",
       "      <td>15.713</td>\n",
       "      <td>18281.181</td>\n",
       "      <td>0.0</td>\n",
       "    </tr>\n",
       "    <tr>\n",
       "      <th>57</th>\n",
       "      <td>2022-09-01 01:00:00</td>\n",
       "      <td>475.0</td>\n",
       "      <td>264.653</td>\n",
       "      <td>13.302</td>\n",
       "      <td>19515.537</td>\n",
       "      <td>0.0</td>\n",
       "    </tr>\n",
       "    <tr>\n",
       "      <th>61</th>\n",
       "      <td>2022-09-01 01:00:00</td>\n",
       "      <td>450.0</td>\n",
       "      <td>261.224</td>\n",
       "      <td>13.430</td>\n",
       "      <td>20803.669</td>\n",
       "      <td>0.0</td>\n",
       "    </tr>\n",
       "  </tbody>\n",
       "</table>\n",
       "</div>"
      ],
      "text/plain": [
       "             Timestamp  Level  Temperature  Relative Humidity  altitude (ft)  \\\n",
       "53 2022-09-01 01:00:00  500.0      267.691             15.713      18281.181   \n",
       "57 2022-09-01 01:00:00  475.0      264.653             13.302      19515.537   \n",
       "61 2022-09-01 01:00:00  450.0      261.224             13.430      20803.669   \n",
       "\n",
       "    Image Present  \n",
       "53            0.0  \n",
       "57            0.0  \n",
       "61            0.0  "
      ]
     },
     "execution_count": 37,
     "metadata": {},
     "output_type": "execute_result"
    }
   ],
   "source": [
    "clean_data.round(3).head(3)"
   ]
  },
  {
   "cell_type": "code",
   "execution_count": 26,
   "id": "2e768078",
   "metadata": {},
   "outputs": [],
   "source": [
    "clean_data.dropna(subset=['Image Present'], inplace=True)"
   ]
  },
  {
   "cell_type": "code",
   "execution_count": 27,
   "id": "68143351",
   "metadata": {},
   "outputs": [
    {
     "data": {
      "text/plain": [
       "Timestamp            0\n",
       "Level                0\n",
       "Temperature          0\n",
       "Relative Humidity    0\n",
       "altitude (ft)        0\n",
       "Image Present        0\n",
       "dtype: int64"
      ]
     },
     "execution_count": 27,
     "metadata": {},
     "output_type": "execute_result"
    }
   ],
   "source": [
    "clean_data.isnull().sum()"
   ]
  },
  {
   "cell_type": "code",
   "execution_count": 28,
   "id": "18979d37",
   "metadata": {},
   "outputs": [],
   "source": [
    "clean_data.to_csv(\"clean_atmospheric_data.csv\", index=False)"
   ]
  },
  {
   "cell_type": "markdown",
   "id": "95413006",
   "metadata": {},
   "source": [
    "### Attributes relationship Analysis"
   ]
  },
  {
   "cell_type": "code",
   "execution_count": 31,
   "id": "d8d54c12",
   "metadata": {},
   "outputs": [],
   "source": [
    "x= clean_data.Level\n",
    "x1= clean_data.Temperature\n",
    "x2=clean_data['Relative Humidity']\n",
    "y=clean_data['altitude (ft)']"
   ]
  },
  {
   "cell_type": "code",
   "execution_count": 32,
   "id": "02856043",
   "metadata": {},
   "outputs": [
    {
     "data": {
      "image/png": "[encoded data removed]",
      "text/plain": [
       "<Figure size 432x288 with 1 Axes>"
      ]
     },
     "metadata": {
      "needs_background": "light"
     },
     "output_type": "display_data"
    }
   ],
   "source": [
    "import matplotlib.pyplot as plt\n",
    "\n",
    "plt.scatter(x, y)\n",
    "plt.xlabel('Pressure Level')\n",
    "plt.ylabel('Flight Altitude')\n",
    "plt.title('Scatter Plot of Flight Altitude and Pressure Level')\n",
    "plt.show()\n"
   ]
  },
  {
   "cell_type": "code",
   "execution_count": 36,
   "id": "5dc79485",
   "metadata": {},
   "outputs": [
    {
     "data": {
      "image/png": "[encoded data removed]",
      "text/plain": [
       "<Figure size 720x576 with 2 Axes>"
      ]
     },
     "metadata": {
      "needs_background": "light"
     },
     "output_type": "display_data"
    }
   ],
   "source": [
    "#Plot corrolation Matrix \n",
    "\n",
    "corr_data = clean_data[['Level', 'Temperature', 'Relative Humidity','altitude (ft)' ]]\n",
    "correlation_matrix = corr_data.corr()\n",
    "plt.figure(figsize=(10, 8))\n",
    "sns.heatmap(correlation_matrix, annot=True, cmap='RdBu_r', fmt='.2f', linewidths=0.5,\n",
    "            annot_kws={\"size\": 12}, square=True, cbar=True, cbar_kws={\"shrink\": 0.8, \"aspect\": 30})\n",
    "\n",
    "\n",
    "sns.set_style('white')\n",
    "sns.set_palette('gray')\n",
    "plt.grid(False)\n",
    "\n",
    "plt.title('Correlation For Rapid Refresh Raw Atmospheric Data', fontsize=14)\n",
    "# Adjust tick label font size and rotation\n",
    "plt.xticks(fontsize=13, rotation=45)\n",
    "plt.yticks(fontsize=13)\n",
    "\n",
    "# Show the plot\n",
    "plt.tight_layout()\n",
    "plt.show()\n",
    "\n"
   ]
  }
 ],
 "metadata": {
  "kernelspec": {
   "display_name": "Python 3",
   "language": "python",
   "name": "python3"
  },
  "language_info": {
   "codemirror_mode": {
    "name": "ipython",
    "version": 3
   },
   "file_extension": ".py",
   "mimetype": "text/x-python",
   "name": "python",
   "nbconvert_exporter": "python",
   "pygments_lexer": "ipython3",
   "version": "3.8.8"
  }
 },
 "nbformat": 4,
 "nbformat_minor": 5
}
