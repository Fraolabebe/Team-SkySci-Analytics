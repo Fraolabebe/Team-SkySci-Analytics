{
 "cells": [
  {
   "cell_type": "code",
   "execution_count": 1,
   "id": "248624f8",
   "metadata": {},
   "outputs": [
    {
     "name": "stdout",
     "output_type": "stream",
     "text": [
      "Collecting pygrib"
     ]
    },
    {
     "name": "stderr",
     "output_type": "stream",
     "text": [
      "  ERROR: Command errored out with exit status 1:\n",
      "   command: 'C:\\Users\\abebe\\anaconda3\\python.exe' 'C:\\Users\\abebe\\anaconda3\\lib\\site-packages\\pip\\_vendor\\pep517\\_in_process.py' build_wheel 'C:\\Users\\abebe\\AppData\\Local\\Temp\\tmp3dcoi9av'\n",
      "       cwd: C:\\Users\\abebe\\AppData\\Local\\Temp\\pip-install-a_mt_f0o\\pygrib_1babaefb8c414fbdb70847eccc82e5cc\n",
      "  Complete output (23 lines):\n",
      "  eccodes not found, build may fail...\n",
      "  running bdist_wheel\n",
      "  running build\n",
      "  running build_py\n",
      "  creating build\n",
      "  creating build\\lib.win-amd64-cpython-38\n",
      "  creating build\\lib.win-amd64-cpython-38\\pygrib\n",
      "  copying src\\pygrib\\__init__.py -> build\\lib.win-amd64-cpython-38\\pygrib\n",
      "  running build_ext\n",
      "  cythoning src/pygrib/_pygrib.pyx to src/pygrib\\_pygrib.c\n",
      "  building 'pygrib._pygrib' extension\n",
      "  <string>:17: _DeprecatedInstaller: setuptools.installer and fetch_build_eggs are deprecated.\n",
      "  !!\n",
      "  \n",
      "          ********************************************************************************\n",
      "          Requirements should be satisfied by a PEP 517 installer.\n",
      "          If you are using pip, you can try `pip install --use-pep517`.\n",
      "          ********************************************************************************\n",
      "  \n",
      "  !!\n",
      "  C:\\Users\\abebe\\AppData\\Local\\Temp\\pip-build-env-x9ss2q37\\overlay\\Lib\\site-packages\\Cython\\Compiler\\Main.py:369: FutureWarning: Cython directive 'language_level' not set, using 2 for now (Py2). This will change in a later release! File: C:\\Users\\abebe\\AppData\\Local\\Temp\\pip-install-a_mt_f0o\\pygrib_1babaefb8c414fbdb70847eccc82e5cc\\src\\pygrib\\_pygrib.pyx\n",
      "    tree = Parsing.p_module(s, pxd, full_module_name)\n",
      "  error: Microsoft Visual C++ 14.0 or greater is required. Get it with \"Microsoft C++ Build Tools\": https://visualstudio.microsoft.com/visual-cpp-build-tools/\n",
      "  ----------------------------------------\n",
      "  ERROR: Failed building wheel for pygrib\n",
      "ERROR: Could not build wheels for pygrib which use PEP 517 and cannot be installed directly\n"
     ]
    },
    {
     "name": "stdout",
     "output_type": "stream",
     "text": [
      "\n",
      "  Downloading pygrib-2.1.4.tar.gz (21.8 MB)\n",
      "  Installing build dependencies: started\n",
      "  Installing build dependencies: finished with status 'done'\n",
      "  Getting requirements to build wheel: started\n",
      "  Getting requirements to build wheel: finished with status 'done'\n",
      "    Preparing wheel metadata: started\n",
      "    Preparing wheel metadata: finished with status 'done'\n",
      "Requirement already satisfied: numpy in c:\\users\\abebe\\anaconda3\\lib\\site-packages (from pygrib) (1.19.5)\n",
      "Collecting pyproj\n",
      "  Downloading pyproj-3.5.0-cp38-cp38-win_amd64.whl (5.1 MB)\n",
      "Requirement already satisfied: certifi in c:\\users\\abebe\\anaconda3\\lib\\site-packages (from pyproj->pygrib) (2020.12.5)\n",
      "Building wheels for collected packages: pygrib\n",
      "  Building wheel for pygrib (PEP 517): started\n",
      "  Building wheel for pygrib (PEP 517): finished with status 'error'\n",
      "Failed to build pygrib\n"
     ]
    }
   ],
   "source": [
    "!pip install pygrib\n"
   ]
  }
 ],
 "metadata": {
  "kernelspec": {
   "display_name": "Python 3",
   "language": "python",
   "name": "python3"
  },
  "language_info": {
   "codemirror_mode": {
    "name": "ipython",
    "version": 3
   },
   "file_extension": ".py",
   "mimetype": "text/x-python",
   "name": "python",
   "nbconvert_exporter": "python",
   "pygments_lexer": "ipython3",
   "version": "3.8.8"
  }
 },
 "nbformat": 4,
 "nbformat_minor": 5
}
