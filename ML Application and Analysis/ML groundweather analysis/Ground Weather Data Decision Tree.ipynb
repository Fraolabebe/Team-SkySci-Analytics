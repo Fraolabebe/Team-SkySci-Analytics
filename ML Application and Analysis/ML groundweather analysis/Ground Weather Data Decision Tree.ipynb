{
 "cells": [
  {
   "cell_type": "markdown",
   "id": "c258c44e",
   "metadata": {},
   "source": [
    "Machine Learning Decision Tree - Ground Weather"
   ]
  },
  {
   "cell_type": "code",
   "execution_count": 1,
   "id": "d4714d1a",
   "metadata": {},
   "outputs": [],
   "source": [
    "#import libraries\n",
    "import numpy as np\n",
    "import pandas as pd\n",
    "import matplotlib.pyplot as plt\n",
    "import seaborn as sns\n",
    "import sklearn.tree as tree\n",
    "from sklearn.model_selection import train_test_split\n",
    "from sklearn.metrics import accuracy_score\n",
    "from sklearn.neural_network import MLPClassifier\n",
    "from sklearn.tree import export_graphviz\n",
    "import graphviz\n",
    "from sklearn import metrics\n",
    "from sklearn.metrics import confusion_matrix"
   ]
  },
  {
   "cell_type": "code",
   "execution_count": 2,
   "id": "da07935f",
   "metadata": {},
   "outputs": [
    {
     "data": {
      "text/html": [
       "<div>\n",
       "<style scoped>\n",
       "    .dataframe tbody tr th:only-of-type {\n",
       "        vertical-align: middle;\n",
       "    }\n",
       "\n",
       "    .dataframe tbody tr th {\n",
       "        vertical-align: top;\n",
       "    }\n",
       "\n",
       "    .dataframe thead th {\n",
       "        text-align: right;\n",
       "    }\n",
       "</style>\n",
       "<table border=\"1\" class=\"dataframe\">\n",
       "  <thead>\n",
       "    <tr style=\"text-align: right;\">\n",
       "      <th></th>\n",
       "      <th>temperature</th>\n",
       "      <th>humidity</th>\n",
       "      <th>pressure</th>\n",
       "      <th>image</th>\n",
       "    </tr>\n",
       "  </thead>\n",
       "  <tbody>\n",
       "    <tr>\n",
       "      <th>0</th>\n",
       "      <td>68</td>\n",
       "      <td>65</td>\n",
       "      <td>29.63</td>\n",
       "      <td>0</td>\n",
       "    </tr>\n",
       "    <tr>\n",
       "      <th>1</th>\n",
       "      <td>63</td>\n",
       "      <td>78</td>\n",
       "      <td>29.64</td>\n",
       "      <td>0</td>\n",
       "    </tr>\n",
       "    <tr>\n",
       "      <th>2</th>\n",
       "      <td>61</td>\n",
       "      <td>83</td>\n",
       "      <td>29.64</td>\n",
       "      <td>0</td>\n",
       "    </tr>\n",
       "    <tr>\n",
       "      <th>3</th>\n",
       "      <td>60</td>\n",
       "      <td>86</td>\n",
       "      <td>29.65</td>\n",
       "      <td>0</td>\n",
       "    </tr>\n",
       "    <tr>\n",
       "      <th>4</th>\n",
       "      <td>59</td>\n",
       "      <td>87</td>\n",
       "      <td>29.65</td>\n",
       "      <td>0</td>\n",
       "    </tr>\n",
       "  </tbody>\n",
       "</table>\n",
       "</div>"
      ],
      "text/plain": [
       "   temperature  humidity  pressure  image\n",
       "0           68        65     29.63      0\n",
       "1           63        78     29.64      0\n",
       "2           61        83     29.64      0\n",
       "3           60        86     29.65      0\n",
       "4           59        87     29.65      0"
      ]
     },
     "execution_count": 2,
     "metadata": {},
     "output_type": "execute_result"
    }
   ],
   "source": [
    "#read ground weather csv file\n",
    "g_data = pd.read_csv('ground_weather_preprocessed.csv')\n",
    "g_data.head()"
   ]
  },
  {
   "cell_type": "code",
   "execution_count": 3,
   "id": "41b955a1",
   "metadata": {},
   "outputs": [],
   "source": [
    "#identify variables\n",
    "X = np.array(g_data.iloc[:,0:3])\n",
    "Y = np.array(g_data['image'])"
   ]
  },
  {
   "cell_type": "code",
   "execution_count": 4,
   "id": "4f13bd9b",
   "metadata": {},
   "outputs": [],
   "source": [
    "#split data\n",
    "X_train, X_test, Y_train, Y_test = train_test_split(X, Y, test_size=.20)"
   ]
  },
  {
   "cell_type": "code",
   "execution_count": 5,
   "id": "1ec93fbc",
   "metadata": {},
   "outputs": [],
   "source": [
    "#preform decision tree classifier\n",
    "g_dt_c = tree.DecisionTreeClassifier()\n",
    "g_dt_c.fit(X_train, Y_train)\n",
    "pred = g_dt_c.predict(X_test)"
   ]
  },
  {
   "cell_type": "code",
   "execution_count": 6,
   "id": "c708cb0d",
   "metadata": {},
   "outputs": [
    {
     "name": "stdout",
     "output_type": "stream",
     "text": [
      "Accuracy Score:  0.7052117263843648\n"
     ]
    }
   ],
   "source": [
    "#show results\n",
    "print('Accuracy Score: ', accuracy_score(Y_test,pred))"
   ]
  },
  {
   "cell_type": "code",
   "execution_count": 7,
   "id": "47c08974",
   "metadata": {},
   "outputs": [
    {
     "data": {
      "text/plain": [
       "Text(113.9222222222222, 0.5, 'Predicted')"
      ]
     },
     "execution_count": 7,
     "metadata": {},
     "output_type": "execute_result"
    },
    {
     "data": {
      "image/png": "[encoded data removed]",
      "text/plain": [
       "<Figure size 640x480 with 1 Axes>"
      ]
     },
     "metadata": {},
     "output_type": "display_data"
    }
   ],
   "source": [
    "g_mat = confusion_matrix(Y_test, pred)\n",
    "sns.heatmap(g_mat.T, square=True, annot=True, fmt='d',cbar=False)\n",
    "plt.xlabel('True')\n",
    "plt.ylabel('Predicted')"
   ]
  },
  {
   "cell_type": "code",
   "execution_count": 8,
   "id": "873eb847",
   "metadata": {},
   "outputs": [
    {
     "name": "stdout",
     "output_type": "stream",
     "text": [
      "              precision    recall  f1-score   support\n",
      "\n",
      "           0       0.71      0.72      0.71       316\n",
      "           1       0.70      0.69      0.69       298\n",
      "\n",
      "    accuracy                           0.71       614\n",
      "   macro avg       0.70      0.70      0.70       614\n",
      "weighted avg       0.71      0.71      0.71       614\n",
      "\n"
     ]
    }
   ],
   "source": [
    "print(metrics.classification_report(pred,Y_test))"
   ]
  },
  {
   "cell_type": "code",
   "execution_count": 9,
   "id": "4bcfe5a9",
   "metadata": {},
   "outputs": [],
   "source": [
    "#transfer decision tree into visual\n",
    "export_graphviz(g_dt_c, out_file='Ground_Weather_Decision_Tree.dot')"
   ]
  },
  {
   "cell_type": "code",
   "execution_count": null,
   "id": "a890b019",
   "metadata": {},
   "outputs": [],
   "source": []
  }
 ],
 "metadata": {
  "kernelspec": {
   "display_name": "Python 3 (ipykernel)",
   "language": "python",
   "name": "python3"
  },
  "language_info": {
   "codemirror_mode": {
    "name": "ipython",
    "version": 3
   },
   "file_extension": ".py",
   "mimetype": "text/x-python",
   "name": "python",
   "nbconvert_exporter": "python",
   "pygments_lexer": "ipython3",
   "version": "3.8.11"
  }
 },
 "nbformat": 4,
 "nbformat_minor": 5
}
