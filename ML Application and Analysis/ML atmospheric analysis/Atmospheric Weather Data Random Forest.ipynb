{
 "cells": [
  {
   "cell_type": "markdown",
   "id": "6c7a86f1",
   "metadata": {},
   "source": [
    "Random Forest Classifer - Ground Weather Data"
   ]
  },
  {
   "cell_type": "code",
   "execution_count": 1,
   "id": "42418ee2",
   "metadata": {},
   "outputs": [],
   "source": [
    "#import libraries\n",
    "import numpy as np\n",
    "import pandas as pd\n",
    "import matplotlib.pyplot as plt\n",
    "import seaborn as sns\n",
    "import sklearn.tree as tree\n",
    "from sklearn.model_selection import train_test_split\n",
    "from sklearn.metrics import accuracy_score\n",
    "from sklearn.neural_network import MLPClassifier\n",
    "from sklearn.tree import export_graphviz\n",
    "import graphviz\n",
    "from sklearn import metrics\n",
    "from sklearn.metrics import confusion_matrix\n",
    "from sklearn.ensemble import RandomForestClassifier"
   ]
  },
  {
   "cell_type": "code",
   "execution_count": 2,
   "id": "ca8c4d75",
   "metadata": {},
   "outputs": [
    {
     "data": {
      "text/html": [
       "<div>\n",
       "<style scoped>\n",
       "    .dataframe tbody tr th:only-of-type {\n",
       "        vertical-align: middle;\n",
       "    }\n",
       "\n",
       "    .dataframe tbody tr th {\n",
       "        vertical-align: top;\n",
       "    }\n",
       "\n",
       "    .dataframe thead th {\n",
       "        text-align: right;\n",
       "    }\n",
       "</style>\n",
       "<table border=\"1\" class=\"dataframe\">\n",
       "  <thead>\n",
       "    <tr style=\"text-align: right;\">\n",
       "      <th></th>\n",
       "      <th>temperature</th>\n",
       "      <th>humidity</th>\n",
       "      <th>pressure</th>\n",
       "      <th>image</th>\n",
       "    </tr>\n",
       "  </thead>\n",
       "  <tbody>\n",
       "    <tr>\n",
       "      <th>0</th>\n",
       "      <td>209.477417</td>\n",
       "      <td>3.186864</td>\n",
       "      <td>18499.99771</td>\n",
       "      <td>0</td>\n",
       "    </tr>\n",
       "    <tr>\n",
       "      <th>1</th>\n",
       "      <td>209.747436</td>\n",
       "      <td>3.067529</td>\n",
       "      <td>18499.99771</td>\n",
       "      <td>0</td>\n",
       "    </tr>\n",
       "    <tr>\n",
       "      <th>2</th>\n",
       "      <td>210.730987</td>\n",
       "      <td>2.938781</td>\n",
       "      <td>26399.99924</td>\n",
       "      <td>0</td>\n",
       "    </tr>\n",
       "    <tr>\n",
       "      <th>3</th>\n",
       "      <td>211.201355</td>\n",
       "      <td>2.554327</td>\n",
       "      <td>39799.99924</td>\n",
       "      <td>0</td>\n",
       "    </tr>\n",
       "    <tr>\n",
       "      <th>4</th>\n",
       "      <td>210.796722</td>\n",
       "      <td>2.694520</td>\n",
       "      <td>38599.99771</td>\n",
       "      <td>0</td>\n",
       "    </tr>\n",
       "  </tbody>\n",
       "</table>\n",
       "</div>"
      ],
      "text/plain": [
       "   temperature  humidity     pressure  image\n",
       "0   209.477417  3.186864  18499.99771      0\n",
       "1   209.747436  3.067529  18499.99771      0\n",
       "2   210.730987  2.938781  26399.99924      0\n",
       "3   211.201355  2.554327  39799.99924      0\n",
       "4   210.796722  2.694520  38599.99771      0"
      ]
     },
     "execution_count": 2,
     "metadata": {},
     "output_type": "execute_result"
    }
   ],
   "source": [
    "#read file\n",
    "a_data = pd.read_csv('atmospheric_weather_preprocessed.csv')\n",
    "a_data.head()"
   ]
  },
  {
   "cell_type": "code",
   "execution_count": 3,
   "id": "37658e3d",
   "metadata": {},
   "outputs": [],
   "source": [
    "#identify variables\n",
    "X = np.array(a_data.iloc[:,0:3])\n",
    "Y = np.array(a_data['image'])"
   ]
  },
  {
   "cell_type": "code",
   "execution_count": 4,
   "id": "7ad11921",
   "metadata": {},
   "outputs": [],
   "source": [
    "#split data\n",
    "X_train, X_test, Y_train, Y_test = train_test_split(X, Y, test_size=.2)"
   ]
  },
  {
   "cell_type": "code",
   "execution_count": 5,
   "id": "028cb326",
   "metadata": {},
   "outputs": [],
   "source": [
    "#preform random forest \n",
    "a_rf_c = RandomForestClassifier()\n",
    "a_rf_c.fit(X_train, Y_train)\n",
    "pred = a_rf_c.predict(X_test)"
   ]
  },
  {
   "cell_type": "code",
   "execution_count": 6,
   "id": "950d7f9c",
   "metadata": {},
   "outputs": [
    {
     "name": "stdout",
     "output_type": "stream",
     "text": [
      "Accuracy Score:  0.6710280373831776\n"
     ]
    }
   ],
   "source": [
    "#show results\n",
    "print('Accuracy Score: ', accuracy_score(Y_test,pred))"
   ]
  },
  {
   "cell_type": "code",
   "execution_count": 7,
   "id": "bddca86b",
   "metadata": {},
   "outputs": [
    {
     "data": {
      "text/plain": [
       "Text(113.9222222222222, 0.5, 'Predicted')"
      ]
     },
     "execution_count": 7,
     "metadata": {},
     "output_type": "execute_result"
    },
    {
     "data": {
      "image/png": "[encoded data removed]",
      "text/plain": [
       "<Figure size 640x480 with 1 Axes>"
      ]
     },
     "metadata": {},
     "output_type": "display_data"
    }
   ],
   "source": [
    "a_mat = confusion_matrix(Y_test, pred)\n",
    "sns.heatmap(a_mat.T, square=True, annot=True, fmt='d',cbar=False)\n",
    "plt.xlabel('Actual')\n",
    "plt.ylabel('Predicted')"
   ]
  },
  {
   "cell_type": "code",
   "execution_count": null,
   "id": "03c41b51",
   "metadata": {},
   "outputs": [],
   "source": []
  }
 ],
 "metadata": {
  "kernelspec": {
   "display_name": "Python 3 (ipykernel)",
   "language": "python",
   "name": "python3"
  },
  "language_info": {
   "codemirror_mode": {
    "name": "ipython",
    "version": 3
   },
   "file_extension": ".py",
   "mimetype": "text/x-python",
   "name": "python",
   "nbconvert_exporter": "python",
   "pygments_lexer": "ipython3",
   "version": "3.8.11"
  }
 },
 "nbformat": 4,
 "nbformat_minor": 5
}
