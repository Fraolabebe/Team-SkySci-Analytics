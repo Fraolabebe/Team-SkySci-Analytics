{
 "cells": [
  {
   "cell_type": "markdown",
   "id": "6c7a86f1",
   "metadata": {},
   "source": [
    "Random Forest Classifer - Atmospheric Data"
   ]
  },
  {
   "cell_type": "code",
   "execution_count": 1,
   "id": "42418ee2",
   "metadata": {},
   "outputs": [],
   "source": [
    "#import libraries\n",
    "import numpy as np\n",
    "import pandas as pd\n",
    "import matplotlib.pyplot as plt\n",
    "import seaborn as sns\n",
    "import sklearn.tree as tree\n",
    "from sklearn.model_selection import train_test_split\n",
    "from sklearn.metrics import accuracy_score\n",
    "from sklearn.neural_network import MLPClassifier\n",
    "from sklearn.tree import export_graphviz\n",
    "from sklearn.metrics import roc_curve, auc\n",
    "import graphviz\n",
    "from sklearn import metrics\n",
    "from sklearn.metrics import confusion_matrix\n",
    "from sklearn.ensemble import RandomForestClassifier\n",
    "from matplotlib.legend_handler import HandlerLine2D"
   ]
  },
  {
   "cell_type": "code",
   "execution_count": 2,
   "id": "ca8c4d75",
   "metadata": {},
   "outputs": [
    {
     "data": {
      "text/html": [
       "<div>\n",
       "<style scoped>\n",
       "    .dataframe tbody tr th:only-of-type {\n",
       "        vertical-align: middle;\n",
       "    }\n",
       "\n",
       "    .dataframe tbody tr th {\n",
       "        vertical-align: top;\n",
       "    }\n",
       "\n",
       "    .dataframe thead th {\n",
       "        text-align: right;\n",
       "    }\n",
       "</style>\n",
       "<table border=\"1\" class=\"dataframe\">\n",
       "  <thead>\n",
       "    <tr style=\"text-align: right;\">\n",
       "      <th></th>\n",
       "      <th>pressure</th>\n",
       "      <th>temperature</th>\n",
       "      <th>humidity</th>\n",
       "      <th>image</th>\n",
       "    </tr>\n",
       "  </thead>\n",
       "  <tbody>\n",
       "    <tr>\n",
       "      <th>0</th>\n",
       "      <td>200</td>\n",
       "      <td>217.770279</td>\n",
       "      <td>8.306047</td>\n",
       "      <td>0</td>\n",
       "    </tr>\n",
       "    <tr>\n",
       "      <th>1</th>\n",
       "      <td>350</td>\n",
       "      <td>239.403473</td>\n",
       "      <td>5.289028</td>\n",
       "      <td>0</td>\n",
       "    </tr>\n",
       "    <tr>\n",
       "      <th>2</th>\n",
       "      <td>325</td>\n",
       "      <td>236.103195</td>\n",
       "      <td>4.626761</td>\n",
       "      <td>0</td>\n",
       "    </tr>\n",
       "    <tr>\n",
       "      <th>3</th>\n",
       "      <td>300</td>\n",
       "      <td>232.266129</td>\n",
       "      <td>5.750836</td>\n",
       "      <td>0</td>\n",
       "    </tr>\n",
       "    <tr>\n",
       "      <th>4</th>\n",
       "      <td>275</td>\n",
       "      <td>228.088684</td>\n",
       "      <td>5.880545</td>\n",
       "      <td>0</td>\n",
       "    </tr>\n",
       "  </tbody>\n",
       "</table>\n",
       "</div>"
      ],
      "text/plain": [
       "   pressure  temperature  humidity  image\n",
       "0       200   217.770279  8.306047      0\n",
       "1       350   239.403473  5.289028      0\n",
       "2       325   236.103195  4.626761      0\n",
       "3       300   232.266129  5.750836      0\n",
       "4       275   228.088684  5.880545      0"
      ]
     },
     "execution_count": 2,
     "metadata": {},
     "output_type": "execute_result"
    }
   ],
   "source": [
    "#read file\n",
    "a_data = pd.read_csv('atmospheric_weather_preprocessed.csv')\n",
    "b_data = pd.read_csv('SAGEMAKER_atmospheric.csv')\n",
    "a_data.head()"
   ]
  },
  {
   "cell_type": "code",
   "execution_count": 3,
   "id": "37658e3d",
   "metadata": {},
   "outputs": [],
   "source": [
    "#identify variables\n",
    "X = np.array(a_data.iloc[:,0:3])\n",
    "Y = np.array(a_data['image'])"
   ]
  },
  {
   "cell_type": "code",
   "execution_count": 4,
   "id": "7ad11921",
   "metadata": {},
   "outputs": [],
   "source": [
    "#split data\n",
    "X_train, X_test, Y_train, Y_test = train_test_split(X, Y, test_size=.3)"
   ]
  },
  {
   "cell_type": "code",
   "execution_count": 5,
   "id": "028cb326",
   "metadata": {},
   "outputs": [],
   "source": [
    "#preform random forest \n",
    "a_rf_c = RandomForestClassifier()\n",
    "a_rf_c.fit(X_train, Y_train)\n",
    "pred = a_rf_c.predict(X_test)"
   ]
  },
  {
   "cell_type": "code",
   "execution_count": 6,
   "id": "8e534a51",
   "metadata": {},
   "outputs": [
    {
     "name": "stdout",
     "output_type": "stream",
     "text": [
      "ROC AUC:  0.5035713587935862\n"
     ]
    }
   ],
   "source": [
    "false_positive_rate, true_positive_rate, thresholds = roc_curve(Y_test,pred)\n",
    "\n",
    "roc_auc = auc(false_positive_rate, true_positive_rate)\n",
    "print('ROC AUC: ', roc_auc)"
   ]
  },
  {
   "cell_type": "code",
   "execution_count": 7,
   "id": "7472270c",
   "metadata": {},
   "outputs": [
    {
     "data": {
      "image/png": "[encoded data removed]",
      "text/plain": [
       "<Figure size 640x480 with 1 Axes>"
      ]
     },
     "metadata": {},
     "output_type": "display_data"
    }
   ],
   "source": [
    "max_depths = np.arange(1, 33)\n",
    "\n",
    "train_results = []\n",
    "test_results = []\n",
    "\n",
    "for max_depth in max_depths:\n",
    "    a_rf_c = RandomForestClassifier(max_depth=max_depth, n_jobs=-1) \n",
    "    a_rf_c.fit(X_train, Y_train)\n",
    "    \n",
    "    train_pred = a_rf_c.predict(X_train)\n",
    "    false_positive_rate, true_positive_rate, thresholds = roc_curve(Y_train, train_pred)\n",
    "    roc_auc = auc(false_positive_rate, true_positive_rate)\n",
    "    train_results.append(roc_auc)\n",
    "\n",
    "    test_pred = a_rf_c.predict(X_test)\n",
    "    false_positive_rate, true_positive_rate, thresholds = roc_curve(Y_test, test_pred)\n",
    "    roc_auc = auc(false_positive_rate, true_positive_rate)\n",
    "    test_results.append(roc_auc)\n",
    "\n",
    "line1, = plt.plot(max_depths, train_results, label=\"Train AUC\")\n",
    "line2, = plt.plot(max_depths, test_results, label=\"Test AUC\")\n",
    "plt.legend(handler_map={line1: HandlerLine2D(numpoints=2)})\n",
    "plt.ylabel(\"AUC score\")\n",
    "plt.xlabel(\"Tree depth\")\n",
    "plt.show()"
   ]
  },
  {
   "cell_type": "code",
   "execution_count": 8,
   "id": "950d7f9c",
   "metadata": {},
   "outputs": [
    {
     "name": "stdout",
     "output_type": "stream",
     "text": [
      "Accuracy Score:  0.9659068770699396\n"
     ]
    }
   ],
   "source": [
    "#show results\n",
    "print('Accuracy Score: ', accuracy_score(Y_test,pred))"
   ]
  },
  {
   "cell_type": "code",
   "execution_count": 9,
   "id": "bddca86b",
   "metadata": {},
   "outputs": [
    {
     "data": {
      "text/plain": [
       "Text(113.9222222222222, 0.5, 'Predicted')"
      ]
     },
     "execution_count": 9,
     "metadata": {},
     "output_type": "execute_result"
    },
    {
     "data": {
      "image/png": "[encoded data removed]",
      "text/plain": [
       "<Figure size 640x480 with 1 Axes>"
      ]
     },
     "metadata": {},
     "output_type": "display_data"
    }
   ],
   "source": [
    "a_mat = confusion_matrix(Y_test, pred)\n",
    "sns.heatmap(a_mat.T, square=True, annot=True, fmt='d',cbar=False)\n",
    "plt.xlabel('Actual')\n",
    "plt.ylabel('Predicted')"
   ]
  },
  {
   "cell_type": "code",
   "execution_count": 10,
   "id": "bec90136",
   "metadata": {},
   "outputs": [],
   "source": [
    "x = np.array(b_data.iloc[:,0:2])\n",
    "y = np.array(b_data['image'])"
   ]
  },
  {
   "cell_type": "code",
   "execution_count": 11,
   "id": "69ff48c8",
   "metadata": {},
   "outputs": [],
   "source": [
    "x_train, x_test, y_train, y_test = train_test_split(x, y, test_size=.30)"
   ]
  },
  {
   "cell_type": "code",
   "execution_count": 12,
   "id": "b09be454",
   "metadata": {},
   "outputs": [],
   "source": [
    "b_rf_c = RandomForestClassifier()\n",
    "b_rf_c.fit(x_train, y_train)\n",
    "pred = b_rf_c.predict(x_test)"
   ]
  },
  {
   "cell_type": "code",
   "execution_count": 13,
   "id": "b1bb54bd",
   "metadata": {},
   "outputs": [
    {
     "name": "stdout",
     "output_type": "stream",
     "text": [
      "ROC AUC:  0.8662371055362266\n"
     ]
    }
   ],
   "source": [
    "false_positive_rate, true_positive_rate, thresholds = roc_curve(y_test,pred)\n",
    "\n",
    "roc_auc = auc(false_positive_rate, true_positive_rate)\n",
    "print('ROC AUC: ', roc_auc)"
   ]
  },
  {
   "cell_type": "code",
   "execution_count": 14,
   "id": "9b1e5aee",
   "metadata": {},
   "outputs": [
    {
     "data": {
      "image/png": "[encoded data removed]",
      "text/plain": [
       "<Figure size 640x480 with 1 Axes>"
      ]
     },
     "metadata": {},
     "output_type": "display_data"
    }
   ],
   "source": [
    "max_depths = np.arange(1, 33)\n",
    "\n",
    "train_results = []\n",
    "test_results = []\n",
    "\n",
    "for max_depth in max_depths:\n",
    "    b_rf_c = RandomForestClassifier(max_depth=max_depth) \n",
    "    b_rf_c.fit(x_train, y_train)\n",
    "    \n",
    "    train_pred = b_rf_c.predict(x_train)\n",
    "    false_positive_rate, true_positive_rate, thresholds = roc_curve(y_train, train_pred)\n",
    "    roc_auc = auc(false_positive_rate, true_positive_rate)\n",
    "    train_results.append(roc_auc)\n",
    "\n",
    "    test_pred = b_rf_c.predict(x_test)\n",
    "    false_positive_rate, true_positive_rate, thresholds = roc_curve(y_test, test_pred)\n",
    "    roc_auc = auc(false_positive_rate, true_positive_rate)\n",
    "    test_results.append(roc_auc)\n",
    "\n",
    "line1, = plt.plot(max_depths, train_results, label=\"Train AUC\")\n",
    "line2, = plt.plot(max_depths, test_results, label=\"Test AUC\")\n",
    "plt.legend(handler_map={line1: HandlerLine2D(numpoints=2)})\n",
    "plt.ylabel(\"AUC score\")\n",
    "plt.xlabel(\"Tree depth\")\n",
    "plt.show()"
   ]
  },
  {
   "cell_type": "code",
   "execution_count": 23,
   "id": "d3b0193c",
   "metadata": {},
   "outputs": [],
   "source": [
    "b_rf_c = RandomForestClassifier(max_depth=5)\n",
    "b_rf_c.fit(x_train, y_train)\n",
    "pred = b_rf_c.predict(x_test)"
   ]
  },
  {
   "cell_type": "code",
   "execution_count": 24,
   "id": "0eac39d2",
   "metadata": {},
   "outputs": [
    {
     "name": "stdout",
     "output_type": "stream",
     "text": [
      "Accuracy Score:  0.906871609403255\n",
      "ROC AUC:  0.8526826588536898\n"
     ]
    }
   ],
   "source": [
    "print('Accuracy Score: ', accuracy_score(y_test,pred))\n",
    "\n",
    "false_positive_rate, true_positive_rate, thresholds = roc_curve(y_test,pred)\n",
    "\n",
    "roc_auc = auc(false_positive_rate, true_positive_rate)\n",
    "print('ROC AUC: ', roc_auc)"
   ]
  },
  {
   "cell_type": "code",
   "execution_count": 25,
   "id": "f2de149b",
   "metadata": {},
   "outputs": [
    {
     "data": {
      "text/plain": [
       "Text(113.9222222222222, 0.5, 'Predicted')"
      ]
     },
     "execution_count": 25,
     "metadata": {},
     "output_type": "execute_result"
    },
    {
     "data": {
      "image/png": "[encoded data removed]",
      "text/plain": [
       "<Figure size 640x480 with 1 Axes>"
      ]
     },
     "metadata": {},
     "output_type": "display_data"
    }
   ],
   "source": [
    "b_mat = confusion_matrix(y_test, pred)\n",
    "sns.heatmap(b_mat.T, square=True, annot=True, fmt='d',cbar=False)\n",
    "plt.xlabel('True')\n",
    "plt.ylabel('Predicted')"
   ]
  },
  {
   "cell_type": "code",
   "execution_count": null,
   "id": "c215303f",
   "metadata": {},
   "outputs": [],
   "source": []
  },
  {
   "cell_type": "code",
   "execution_count": null,
   "id": "03c41b51",
   "metadata": {},
   "outputs": [],
   "source": []
  }
 ],
 "metadata": {
  "kernelspec": {
   "display_name": "Python 3 (ipykernel)",
   "language": "python",
   "name": "python3"
  },
  "language_info": {
   "codemirror_mode": {
    "name": "ipython",
    "version": 3
   },
   "file_extension": ".py",
   "mimetype": "text/x-python",
   "name": "python",
   "nbconvert_exporter": "python",
   "pygments_lexer": "ipython3",
   "version": "3.8.11"
  }
 },
 "nbformat": 4,
 "nbformat_minor": 5
}
